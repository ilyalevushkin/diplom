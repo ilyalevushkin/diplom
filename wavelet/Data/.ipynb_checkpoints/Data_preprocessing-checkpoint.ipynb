{
 "cells": [
  {
   "cell_type": "code",
   "execution_count": 57,
   "metadata": {},
   "outputs": [],
   "source": [
    "import numpy as np\n",
    "%matplotlib inline\n",
    "import matplotlib.pyplot as plt\n",
    "import pandas as pd\n",
    "from pandas import json_normalize\n",
    "import json\n",
    "from scipy.stats import norm\n",
    "import seaborn as sns\n",
    "from tqdm import tqdm"
   ]
  },
  {
   "cell_type": "code",
   "execution_count": 58,
   "metadata": {},
   "outputs": [],
   "source": [
    "from NormBordersDistribution import NormBordersDistribution"
   ]
  },
  {
   "cell_type": "code",
   "execution_count": 59,
   "metadata": {},
   "outputs": [],
   "source": [
    "df = pd.read_json('markups.json')"
   ]
  },
  {
   "cell_type": "code",
   "execution_count": 60,
   "metadata": {
    "scrolled": true
   },
   "outputs": [
    {
     "data": {
      "text/html": [
       "<div>\n",
       "<style scoped>\n",
       "    .dataframe tbody tr th:only-of-type {\n",
       "        vertical-align: middle;\n",
       "    }\n",
       "\n",
       "    .dataframe tbody tr th {\n",
       "        vertical-align: top;\n",
       "    }\n",
       "\n",
       "    .dataframe thead th {\n",
       "        text-align: right;\n",
       "    }\n",
       "</style>\n",
       "<table border=\"1\" class=\"dataframe\">\n",
       "  <thead>\n",
       "    <tr style=\"text-align: right;\">\n",
       "      <th></th>\n",
       "      <th>_id</th>\n",
       "      <th>username</th>\n",
       "      <th>phonemes</th>\n",
       "      <th>words</th>\n",
       "      <th>sentences</th>\n",
       "      <th>__v</th>\n",
       "      <th>recordname</th>\n",
       "    </tr>\n",
       "  </thead>\n",
       "  <tbody>\n",
       "    <tr>\n",
       "      <th>0</th>\n",
       "      <td>5f9da9b0500f737cc11b51ab</td>\n",
       "      <td>irism104</td>\n",
       "      <td>[{'notation': 'к', 'start': 360.949, 'end': 36...</td>\n",
       "      <td>[]</td>\n",
       "      <td>[]</td>\n",
       "      <td>0</td>\n",
       "      <td>10 БАСЛИНА.wav</td>\n",
       "    </tr>\n",
       "    <tr>\n",
       "      <th>1</th>\n",
       "      <td>5f9dae65500f737cc11b51be</td>\n",
       "      <td>Majorian</td>\n",
       "      <td>[{'notation': 'а', 'start': 10.96, 'end': 11.4...</td>\n",
       "      <td>[{'value': 'На', 'start': 49.26, 'end': 49.35}...</td>\n",
       "      <td>[{'value': 'Мужчина, 24 года.', 'start': 0, 'e...</td>\n",
       "      <td>0</td>\n",
       "      <td>9 КОЗИН.wav</td>\n",
       "    </tr>\n",
       "    <tr>\n",
       "      <th>2</th>\n",
       "      <td>5fa16786500f737cc11b5285</td>\n",
       "      <td>nataliak</td>\n",
       "      <td>[{'notation': 'н', 'start': 17.752, 'end': 17....</td>\n",
       "      <td>[{'value': 'На ', 'start': 17.754, 'end': 17.8...</td>\n",
       "      <td>[{'value': 'На аргентинском авиасалоне авиатор...</td>\n",
       "      <td>0</td>\n",
       "      <td>7 КУДИНОВА.wav</td>\n",
       "    </tr>\n",
       "    <tr>\n",
       "      <th>3</th>\n",
       "      <td>5fa18b60500f737cc11b52ad</td>\n",
       "      <td>lilay_19@mail.ru</td>\n",
       "      <td>[{'notation': 'л’', 'start': 225.657, 'end': 2...</td>\n",
       "      <td>[]</td>\n",
       "      <td>[]</td>\n",
       "      <td>0</td>\n",
       "      <td>4 ЗЕМСКОВ.wav</td>\n",
       "    </tr>\n",
       "    <tr>\n",
       "      <th>4</th>\n",
       "      <td>5fa1d4a1500f737cc11b536b</td>\n",
       "      <td>THIRDSTREETSAINT</td>\n",
       "      <td>[]</td>\n",
       "      <td>[{'value': 'На', 'start': 40.216, 'end': 40.68...</td>\n",
       "      <td>[{'value': 'На аргентинском авиасалоне авиатор...</td>\n",
       "      <td>0</td>\n",
       "      <td>1 ЖУРАВСКИЙ.wav</td>\n",
       "    </tr>\n",
       "  </tbody>\n",
       "</table>\n",
       "</div>"
      ],
      "text/plain": [
       "                        _id          username  \\\n",
       "0  5f9da9b0500f737cc11b51ab          irism104   \n",
       "1  5f9dae65500f737cc11b51be          Majorian   \n",
       "2  5fa16786500f737cc11b5285          nataliak   \n",
       "3  5fa18b60500f737cc11b52ad  lilay_19@mail.ru   \n",
       "4  5fa1d4a1500f737cc11b536b  THIRDSTREETSAINT   \n",
       "\n",
       "                                            phonemes  \\\n",
       "0  [{'notation': 'к', 'start': 360.949, 'end': 36...   \n",
       "1  [{'notation': 'а', 'start': 10.96, 'end': 11.4...   \n",
       "2  [{'notation': 'н', 'start': 17.752, 'end': 17....   \n",
       "3  [{'notation': 'л’', 'start': 225.657, 'end': 2...   \n",
       "4                                                 []   \n",
       "\n",
       "                                               words  \\\n",
       "0                                                 []   \n",
       "1  [{'value': 'На', 'start': 49.26, 'end': 49.35}...   \n",
       "2  [{'value': 'На ', 'start': 17.754, 'end': 17.8...   \n",
       "3                                                 []   \n",
       "4  [{'value': 'На', 'start': 40.216, 'end': 40.68...   \n",
       "\n",
       "                                           sentences  __v       recordname  \n",
       "0                                                 []    0   10 БАСЛИНА.wav  \n",
       "1  [{'value': 'Мужчина, 24 года.', 'start': 0, 'e...    0      9 КОЗИН.wav  \n",
       "2  [{'value': 'На аргентинском авиасалоне авиатор...    0   7 КУДИНОВА.wav  \n",
       "3                                                 []    0    4 ЗЕМСКОВ.wav  \n",
       "4  [{'value': 'На аргентинском авиасалоне авиатор...    0  1 ЖУРАВСКИЙ.wav  "
      ]
     },
     "execution_count": 60,
     "metadata": {},
     "output_type": "execute_result"
    }
   ],
   "source": [
    "df.head()"
   ]
  },
  {
   "cell_type": "code",
   "execution_count": 61,
   "metadata": {},
   "outputs": [
    {
     "name": "stderr",
     "output_type": "stream",
     "text": [
      "/Users/ilyalevuskin/opt/anaconda3/lib/python3.8/site-packages/pandas/core/strings.py:2001: UserWarning: This pattern has match groups. To actually get the groups, use str.extract.\n",
      "  return func(self, *args, **kwargs)\n"
     ]
    }
   ],
   "source": [
    "df = df[df.recordname.str.contains('^[0-9]+ .+((\\.mp3)|(\\.wav))')==True]"
   ]
  },
  {
   "cell_type": "code",
   "execution_count": 62,
   "metadata": {},
   "outputs": [
    {
     "data": {
      "text/plain": [
       "(26,)"
      ]
     },
     "execution_count": 62,
     "metadata": {},
     "output_type": "execute_result"
    }
   ],
   "source": [
    "work_recordnames = df.recordname\n",
    "work_recordnames.shape"
   ]
  },
  {
   "cell_type": "code",
   "execution_count": 63,
   "metadata": {},
   "outputs": [
    {
     "data": {
      "text/plain": [
       "0        10 БАСЛИНА.wav\n",
       "1           9 КОЗИН.wav\n",
       "2        7 КУДИНОВА.wav\n",
       "3         4 ЗЕМСКОВ.wav\n",
       "4       1 ЖУРАВСКИЙ.wav\n",
       "5         5 КЛИМОВА.wav\n",
       "8      11 РОМАНАДЗЕ.wav\n",
       "9         35 ЗАПИСЬ.mp3\n",
       "10        30 ЗАПИСЬ.mp3\n",
       "11          15 КОРФ.wav\n",
       "12        20 ЗАПИСЬ.mp3\n",
       "13        33 ЗАПИСЬ.mp3\n",
       "15        34 ЗАПИСЬ.mp3\n",
       "16       14 УЛАНОВА.wav\n",
       "17        31 ЗАПИСЬ.mp3\n",
       "18        39 ЗАПИСЬ.mp3\n",
       "19        36 ЗАПИСЬ.mp3\n",
       "20        27 ЗАПИСЬ.mp3\n",
       "21    21 ЗАПИСЬ (1).mp3\n",
       "22        23 ЗАПИСЬ.mp3\n",
       "23       8 ТУТЫХИНА.wav\n",
       "24       12 ПОЛЯКОВ.wav\n",
       "25        29 ЗАПИСЬ.mp3\n",
       "26    24 ЗАПИСЬ (1).mp3\n",
       "27        40 ЗАПИСЬ.mp3\n",
       "29     13 ТУРЕВСКАЯ.wav\n",
       "Name: recordname, dtype: object"
      ]
     },
     "execution_count": 63,
     "metadata": {},
     "output_type": "execute_result"
    }
   ],
   "source": [
    "work_recordnames"
   ]
  },
  {
   "cell_type": "markdown",
   "metadata": {},
   "source": [
    "# Извлекаем только фонемы"
   ]
  },
  {
   "cell_type": "code",
   "execution_count": 64,
   "metadata": {},
   "outputs": [],
   "source": [
    "df_phonemes = pd.concat([pd.json_normalize(row['phonemes']).assign(username=row['recordname'][:-4]) \n",
    "                         for index, row in df.iterrows()])"
   ]
  },
  {
   "cell_type": "code",
   "execution_count": 65,
   "metadata": {},
   "outputs": [
    {
     "data": {
      "text/html": [
       "<div>\n",
       "<style scoped>\n",
       "    .dataframe tbody tr th:only-of-type {\n",
       "        vertical-align: middle;\n",
       "    }\n",
       "\n",
       "    .dataframe tbody tr th {\n",
       "        vertical-align: top;\n",
       "    }\n",
       "\n",
       "    .dataframe thead th {\n",
       "        text-align: right;\n",
       "    }\n",
       "</style>\n",
       "<table border=\"1\" class=\"dataframe\">\n",
       "  <thead>\n",
       "    <tr style=\"text-align: right;\">\n",
       "      <th></th>\n",
       "      <th>notation</th>\n",
       "      <th>start</th>\n",
       "      <th>end</th>\n",
       "      <th>language</th>\n",
       "      <th>dialect</th>\n",
       "      <th>username</th>\n",
       "      <th>stress</th>\n",
       "    </tr>\n",
       "  </thead>\n",
       "  <tbody>\n",
       "    <tr>\n",
       "      <th>0</th>\n",
       "      <td>к</td>\n",
       "      <td>360.949</td>\n",
       "      <td>361.039</td>\n",
       "      <td>русский</td>\n",
       "      <td></td>\n",
       "      <td>10 БАСЛИНА</td>\n",
       "      <td>NaN</td>\n",
       "    </tr>\n",
       "    <tr>\n",
       "      <th>1</th>\n",
       "      <td>к</td>\n",
       "      <td>360.949</td>\n",
       "      <td>361.039</td>\n",
       "      <td>русский</td>\n",
       "      <td></td>\n",
       "      <td>10 БАСЛИНА</td>\n",
       "      <td>NaN</td>\n",
       "    </tr>\n",
       "    <tr>\n",
       "      <th>2</th>\n",
       "      <td>а</td>\n",
       "      <td>361.077</td>\n",
       "      <td>361.313</td>\n",
       "      <td>русский</td>\n",
       "      <td></td>\n",
       "      <td>10 БАСЛИНА</td>\n",
       "      <td>NaN</td>\n",
       "    </tr>\n",
       "    <tr>\n",
       "      <th>3</th>\n",
       "      <td>ж</td>\n",
       "      <td>361.555</td>\n",
       "      <td>361.578</td>\n",
       "      <td>русский</td>\n",
       "      <td></td>\n",
       "      <td>10 БАСЛИНА</td>\n",
       "      <td>NaN</td>\n",
       "    </tr>\n",
       "    <tr>\n",
       "      <th>4</th>\n",
       "      <td>д</td>\n",
       "      <td>361.604</td>\n",
       "      <td>361.630</td>\n",
       "      <td>русский</td>\n",
       "      <td></td>\n",
       "      <td>10 БАСЛИНА</td>\n",
       "      <td>NaN</td>\n",
       "    </tr>\n",
       "  </tbody>\n",
       "</table>\n",
       "</div>"
      ],
      "text/plain": [
       "  notation    start      end language dialect    username stress\n",
       "0        к  360.949  361.039  русский          10 БАСЛИНА    NaN\n",
       "1        к  360.949  361.039  русский          10 БАСЛИНА    NaN\n",
       "2        а  361.077  361.313  русский          10 БАСЛИНА    NaN\n",
       "3        ж  361.555  361.578  русский          10 БАСЛИНА    NaN\n",
       "4        д  361.604  361.630  русский          10 БАСЛИНА    NaN"
      ]
     },
     "execution_count": 65,
     "metadata": {},
     "output_type": "execute_result"
    }
   ],
   "source": [
    "df_phonemes.head()"
   ]
  },
  {
   "cell_type": "code",
   "execution_count": 66,
   "metadata": {},
   "outputs": [
    {
     "data": {
      "text/plain": [
       "(10 БАСЛИНА      519\n",
       " 12 ПОЛЯКОВ      502\n",
       " 9 КОЗИН         453\n",
       " 35 ЗАПИСЬ       377\n",
       " 7 КУДИНОВА      353\n",
       " 5 КЛИМОВА       258\n",
       " 39 ЗАПИСЬ       210\n",
       " 4 ЗЕМСКОВ       198\n",
       " 34 ЗАПИСЬ       134\n",
       " 13 ТУРЕВСКАЯ     58\n",
       " 11 РОМАНАДЗЕ     39\n",
       " 23 ЗАПИСЬ        35\n",
       " 36 ЗАПИСЬ        14\n",
       " 15 КОРФ           5\n",
       " Name: username, dtype: int64,\n",
       " 14,\n",
       " (3155,))"
      ]
     },
     "execution_count": 66,
     "metadata": {},
     "output_type": "execute_result"
    }
   ],
   "source": [
    "df_phonemes.loc[:, 'username'].value_counts(), df_phonemes['username'].nunique(), df_phonemes['username'].shape"
   ]
  },
  {
   "cell_type": "markdown",
   "metadata": {},
   "source": [
    "# как видно, осталось всего 14 записей, суммарно в которых 3155 размеченных фонем"
   ]
  },
  {
   "cell_type": "code",
   "execution_count": 67,
   "metadata": {},
   "outputs": [
    {
     "data": {
      "text/html": [
       "<div>\n",
       "<style scoped>\n",
       "    .dataframe tbody tr th:only-of-type {\n",
       "        vertical-align: middle;\n",
       "    }\n",
       "\n",
       "    .dataframe tbody tr th {\n",
       "        vertical-align: top;\n",
       "    }\n",
       "\n",
       "    .dataframe thead th {\n",
       "        text-align: right;\n",
       "    }\n",
       "</style>\n",
       "<table border=\"1\" class=\"dataframe\">\n",
       "  <thead>\n",
       "    <tr style=\"text-align: right;\">\n",
       "      <th></th>\n",
       "      <th>notation</th>\n",
       "      <th>start</th>\n",
       "      <th>end</th>\n",
       "      <th>language</th>\n",
       "      <th>dialect</th>\n",
       "      <th>username</th>\n",
       "      <th>stress</th>\n",
       "    </tr>\n",
       "  </thead>\n",
       "  <tbody>\n",
       "    <tr>\n",
       "      <th>0</th>\n",
       "      <td>н</td>\n",
       "      <td>52.290</td>\n",
       "      <td>52.323</td>\n",
       "      <td>русский</td>\n",
       "      <td>московский</td>\n",
       "      <td>15 КОРФ</td>\n",
       "      <td>Нет</td>\n",
       "    </tr>\n",
       "    <tr>\n",
       "      <th>1</th>\n",
       "      <td>а</td>\n",
       "      <td>52.357</td>\n",
       "      <td>52.370</td>\n",
       "      <td>русский</td>\n",
       "      <td>московский</td>\n",
       "      <td>15 КОРФ</td>\n",
       "      <td>Нет</td>\n",
       "    </tr>\n",
       "    <tr>\n",
       "      <th>2</th>\n",
       "      <td>г’</td>\n",
       "      <td>52.490</td>\n",
       "      <td>52.509</td>\n",
       "      <td>русский</td>\n",
       "      <td>московский</td>\n",
       "      <td>15 КОРФ</td>\n",
       "      <td>Нет</td>\n",
       "    </tr>\n",
       "    <tr>\n",
       "      <th>3</th>\n",
       "      <td>т’</td>\n",
       "      <td>52.631</td>\n",
       "      <td>52.668</td>\n",
       "      <td>русский</td>\n",
       "      <td>московский</td>\n",
       "      <td>15 КОРФ</td>\n",
       "      <td>Нет</td>\n",
       "    </tr>\n",
       "    <tr>\n",
       "      <th>4</th>\n",
       "      <td>с</td>\n",
       "      <td>52.792</td>\n",
       "      <td>52.824</td>\n",
       "      <td>русский</td>\n",
       "      <td>московский</td>\n",
       "      <td>15 КОРФ</td>\n",
       "      <td>Нет</td>\n",
       "    </tr>\n",
       "  </tbody>\n",
       "</table>\n",
       "</div>"
      ],
      "text/plain": [
       "  notation   start     end language     dialect username stress\n",
       "0        н  52.290  52.323  русский  московский  15 КОРФ    Нет\n",
       "1        а  52.357  52.370  русский  московский  15 КОРФ    Нет\n",
       "2       г’  52.490  52.509  русский  московский  15 КОРФ    Нет\n",
       "3       т’  52.631  52.668  русский  московский  15 КОРФ    Нет\n",
       "4        с  52.792  52.824  русский  московский  15 КОРФ    Нет"
      ]
     },
     "execution_count": 67,
     "metadata": {},
     "output_type": "execute_result"
    }
   ],
   "source": [
    "df_phonemes[df_phonemes.username == '15 КОРФ']"
   ]
  },
  {
   "cell_type": "code",
   "execution_count": 68,
   "metadata": {},
   "outputs": [],
   "source": [
    "# уберем из датасета лишнее\n",
    "df_phonemes = df_phonemes.drop(['language', 'dialect', 'stress'], axis=1)"
   ]
  },
  {
   "cell_type": "code",
   "execution_count": 69,
   "metadata": {},
   "outputs": [],
   "source": [
    "df_phonemes = df_phonemes.sort_values(by=['start']).reset_index()[['start', 'end', 'notation', 'username']]"
   ]
  },
  {
   "cell_type": "code",
   "execution_count": 70,
   "metadata": {},
   "outputs": [
    {
     "data": {
      "text/html": [
       "<div>\n",
       "<style scoped>\n",
       "    .dataframe tbody tr th:only-of-type {\n",
       "        vertical-align: middle;\n",
       "    }\n",
       "\n",
       "    .dataframe tbody tr th {\n",
       "        vertical-align: top;\n",
       "    }\n",
       "\n",
       "    .dataframe thead th {\n",
       "        text-align: right;\n",
       "    }\n",
       "</style>\n",
       "<table border=\"1\" class=\"dataframe\">\n",
       "  <thead>\n",
       "    <tr style=\"text-align: right;\">\n",
       "      <th></th>\n",
       "      <th>start</th>\n",
       "      <th>end</th>\n",
       "      <th>notation</th>\n",
       "      <th>username</th>\n",
       "    </tr>\n",
       "  </thead>\n",
       "  <tbody>\n",
       "    <tr>\n",
       "      <th>0</th>\n",
       "      <td>0.12</td>\n",
       "      <td>0.49</td>\n",
       "      <td>м</td>\n",
       "      <td>9 КОЗИН</td>\n",
       "    </tr>\n",
       "    <tr>\n",
       "      <th>1</th>\n",
       "      <td>0.50</td>\n",
       "      <td>0.57</td>\n",
       "      <td>у</td>\n",
       "      <td>9 КОЗИН</td>\n",
       "    </tr>\n",
       "    <tr>\n",
       "      <th>2</th>\n",
       "      <td>0.50</td>\n",
       "      <td>0.57</td>\n",
       "      <td>у</td>\n",
       "      <td>9 КОЗИН</td>\n",
       "    </tr>\n",
       "    <tr>\n",
       "      <th>3</th>\n",
       "      <td>0.54</td>\n",
       "      <td>0.63</td>\n",
       "      <td>щ’</td>\n",
       "      <td>9 КОЗИН</td>\n",
       "    </tr>\n",
       "    <tr>\n",
       "      <th>4</th>\n",
       "      <td>0.61</td>\n",
       "      <td>0.68</td>\n",
       "      <td>и</td>\n",
       "      <td>9 КОЗИН</td>\n",
       "    </tr>\n",
       "  </tbody>\n",
       "</table>\n",
       "</div>"
      ],
      "text/plain": [
       "   start   end notation username\n",
       "0   0.12  0.49        м  9 КОЗИН\n",
       "1   0.50  0.57        у  9 КОЗИН\n",
       "2   0.50  0.57        у  9 КОЗИН\n",
       "3   0.54  0.63       щ’  9 КОЗИН\n",
       "4   0.61  0.68        и  9 КОЗИН"
      ]
     },
     "execution_count": 70,
     "metadata": {},
     "output_type": "execute_result"
    }
   ],
   "source": [
    "df_phonemes.head()"
   ]
  },
  {
   "cell_type": "code",
   "execution_count": 71,
   "metadata": {},
   "outputs": [
    {
     "data": {
      "image/png": "[encoded data removed]",
      "text/plain": [
       "<Figure size 432x288 with 1 Axes>"
      ]
     },
     "metadata": {
      "needs_background": "light"
     },
     "output_type": "display_data"
    },
    {
     "data": {
      "image/png": "[encoded data removed]",
      "text/plain": [
       "<Figure size 432x288 with 1 Axes>"
      ]
     },
     "metadata": {
      "needs_background": "light"
     },
     "output_type": "display_data"
    },
    {
     "data": {
      "image/png": "[encoded data removed]",
      "text/plain": [
       "<Figure size 432x288 with 1 Axes>"
      ]
     },
     "metadata": {
      "needs_background": "light"
     },
     "output_type": "display_data"
    },
    {
     "data": {
      "image/png": "[encoded data removed]",
      "text/plain": [
       "<Figure size 432x288 with 1 Axes>"
      ]
     },
     "metadata": {
      "needs_background": "light"
     },
     "output_type": "display_data"
    },
    {
     "data": {
      "image/png": "[encoded data removed]",
      "text/plain": [
       "<Figure size 432x288 with 1 Axes>"
      ]
     },
     "metadata": {
      "needs_background": "light"
     },
     "output_type": "display_data"
    },
    {
     "data": {
      "image/png": "[encoded data removed]",
      "text/plain": [
       "<Figure size 432x288 with 1 Axes>"
      ]
     },
     "metadata": {
      "needs_background": "light"
     },
     "output_type": "display_data"
    },
    {
     "data": {
      "image/png": "[encoded data removed]",
      "text/plain": [
       "<Figure size 432x288 with 1 Axes>"
      ]
     },
     "metadata": {
      "needs_background": "light"
     },
     "output_type": "display_data"
    },
    {
     "data": {
      "image/png": "[encoded data removed]",
      "text/plain": [
       "<Figure size 432x288 with 1 Axes>"
      ]
     },
     "metadata": {
      "needs_background": "light"
     },
     "output_type": "display_data"
    },
    {
     "data": {
      "image/png": "[encoded data removed]",
      "text/plain": [
       "<Figure size 432x288 with 1 Axes>"
      ]
     },
     "metadata": {
      "needs_background": "light"
     },
     "output_type": "display_data"
    },
    {
     "data": {
      "image/png": "[encoded data removed]",
      "text/plain": [
       "<Figure size 432x288 with 1 Axes>"
      ]
     },
     "metadata": {
      "needs_background": "light"
     },
     "output_type": "display_data"
    },
    {
     "data": {
      "image/png": "[encoded data removed]",
      "text/plain": [
       "<Figure size 432x288 with 1 Axes>"
      ]
     },
     "metadata": {
      "needs_background": "light"
     },
     "output_type": "display_data"
    },
    {
     "data": {
      "image/png": "[encoded data removed]",
      "text/plain": [
       "<Figure size 432x288 with 1 Axes>"
      ]
     },
     "metadata": {
      "needs_background": "light"
     },
     "output_type": "display_data"
    },
    {
     "data": {
      "image/png": "[encoded data removed]",
      "text/plain": [
       "<Figure size 432x288 with 1 Axes>"
      ]
     },
     "metadata": {
      "needs_background": "light"
     },
     "output_type": "display_data"
    },
    {
     "data": {
      "image/png": "[encoded data removed]",
      "text/plain": [
       "<Figure size 432x288 with 1 Axes>"
      ]
     },
     "metadata": {
      "needs_background": "light"
     },
     "output_type": "display_data"
    }
   ],
   "source": [
    "# пройдемся по всем записям и построим графики их распределений\n",
    "transformer = NormBordersDistribution(sr=160)\n",
    "for username in df_phonemes['username'].unique():\n",
    "    x, y = transformer.convert_df_start_end_to_norm_borders_distribution(df_phonemes[df_phonemes['username'] == username])\n",
    "    fig, ax = plt.subplots(1, 1)\n",
    "    ax.plot(x, y, label=username)\n",
    "    ax.legend()\n",
    "    plt.show()"
   ]
  },
  {
   "cell_type": "markdown",
   "metadata": {},
   "source": [
    "# сделаем то же самое для разметки самого первого файла"
   ]
  },
  {
   "cell_type": "code",
   "execution_count": 72,
   "metadata": {},
   "outputs": [],
   "source": [
    "file = open('../example_Data/first_data.json','r')\n",
    "text = file.read()\n",
    "text = json.loads(text)\n",
    "first_df = json_normalize(text, 'phonemes')"
   ]
  },
  {
   "cell_type": "code",
   "execution_count": 73,
   "metadata": {},
   "outputs": [
    {
     "data": {
      "text/html": [
       "<div>\n",
       "<style scoped>\n",
       "    .dataframe tbody tr th:only-of-type {\n",
       "        vertical-align: middle;\n",
       "    }\n",
       "\n",
       "    .dataframe tbody tr th {\n",
       "        vertical-align: top;\n",
       "    }\n",
       "\n",
       "    .dataframe thead th {\n",
       "        text-align: right;\n",
       "    }\n",
       "</style>\n",
       "<table border=\"1\" class=\"dataframe\">\n",
       "  <thead>\n",
       "    <tr style=\"text-align: right;\">\n",
       "      <th></th>\n",
       "      <th>start</th>\n",
       "      <th>language</th>\n",
       "      <th>end</th>\n",
       "      <th>dialect</th>\n",
       "      <th>notation</th>\n",
       "    </tr>\n",
       "  </thead>\n",
       "  <tbody>\n",
       "    <tr>\n",
       "      <th>0</th>\n",
       "      <td>2.150</td>\n",
       "      <td>русский</td>\n",
       "      <td>2.205</td>\n",
       "      <td></td>\n",
       "      <td>р’</td>\n",
       "    </tr>\n",
       "    <tr>\n",
       "      <th>1</th>\n",
       "      <td>4.105</td>\n",
       "      <td>русский</td>\n",
       "      <td>4.186</td>\n",
       "      <td></td>\n",
       "      <td>в</td>\n",
       "    </tr>\n",
       "    <tr>\n",
       "      <th>2</th>\n",
       "      <td>46.469</td>\n",
       "      <td>русский</td>\n",
       "      <td>46.567</td>\n",
       "      <td></td>\n",
       "      <td>н</td>\n",
       "    </tr>\n",
       "    <tr>\n",
       "      <th>3</th>\n",
       "      <td>2.314</td>\n",
       "      <td>русский</td>\n",
       "      <td>2.352</td>\n",
       "      <td></td>\n",
       "      <td>г</td>\n",
       "    </tr>\n",
       "    <tr>\n",
       "      <th>4</th>\n",
       "      <td>46.820</td>\n",
       "      <td>русский</td>\n",
       "      <td>46.916</td>\n",
       "      <td></td>\n",
       "      <td>э</td>\n",
       "    </tr>\n",
       "  </tbody>\n",
       "</table>\n",
       "</div>"
      ],
      "text/plain": [
       "    start language     end dialect notation\n",
       "0   2.150  русский   2.205               р’\n",
       "1   4.105  русский   4.186                в\n",
       "2  46.469  русский  46.567                н\n",
       "3   2.314  русский   2.352                г\n",
       "4  46.820  русский  46.916                э"
      ]
     },
     "execution_count": 73,
     "metadata": {},
     "output_type": "execute_result"
    }
   ],
   "source": [
    "first_df.head()"
   ]
  },
  {
   "cell_type": "code",
   "execution_count": 74,
   "metadata": {},
   "outputs": [],
   "source": [
    "first_df = first_df.drop(['language', 'dialect'], axis=1)\n",
    "# делаем из object float64 + сбрасываем индексы\n",
    "first_df[['start', 'end']] = first_df[['start', 'end']].astype('float64')\n",
    "first_df = first_df.sort_values(by=['start']).reset_index()[['start', 'end', 'notation']]"
   ]
  },
  {
   "cell_type": "code",
   "execution_count": 75,
   "metadata": {},
   "outputs": [
    {
     "data": {
      "image/png": "[encoded data removed]",
      "text/plain": [
       "<Figure size 432x288 with 1 Axes>"
      ]
     },
     "metadata": {
      "needs_background": "light"
     },
     "output_type": "display_data"
    }
   ],
   "source": [
    "x, y = transformer.convert_df_start_end_to_norm_borders_distribution(first_df)\n",
    "fig, ax = plt.subplots(1, 1)\n",
    "ax.plot(x, y, label='first_data.mp3')\n",
    "ax.legend()\n",
    "plt.show()"
   ]
  },
  {
   "cell_type": "code",
   "execution_count": 76,
   "metadata": {},
   "outputs": [
    {
     "data": {
      "text/html": [
       "<div>\n",
       "<style scoped>\n",
       "    .dataframe tbody tr th:only-of-type {\n",
       "        vertical-align: middle;\n",
       "    }\n",
       "\n",
       "    .dataframe tbody tr th {\n",
       "        vertical-align: top;\n",
       "    }\n",
       "\n",
       "    .dataframe thead th {\n",
       "        text-align: right;\n",
       "    }\n",
       "</style>\n",
       "<table border=\"1\" class=\"dataframe\">\n",
       "  <thead>\n",
       "    <tr style=\"text-align: right;\">\n",
       "      <th></th>\n",
       "      <th>start</th>\n",
       "      <th>end</th>\n",
       "      <th>notation</th>\n",
       "      <th>username</th>\n",
       "    </tr>\n",
       "  </thead>\n",
       "  <tbody>\n",
       "  </tbody>\n",
       "</table>\n",
       "</div>"
      ],
      "text/plain": [
       "Empty DataFrame\n",
       "Columns: [start, end, notation, username]\n",
       "Index: []"
      ]
     },
     "execution_count": 76,
     "metadata": {},
     "output_type": "execute_result"
    }
   ],
   "source": [
    "df_phonemes[df_phonemes.username == '39 ЗАПИСЬ'][520:570]"
   ]
  },
  {
   "cell_type": "markdown",
   "metadata": {},
   "source": [
    "# Перебираем вручную аудиофайлы и определяем, в каких интервалах есть разметка фонем (вручную все)"
   ]
  },
  {
   "cell_type": "code",
   "execution_count": 77,
   "metadata": {},
   "outputs": [],
   "source": [
    "intervals_dict = {\n",
    "    'first_data': [[0., 47.39], [342., 388.]],\n",
    "    '10 БАСЛИНА': [[360., 423.]],\n",
    "    '9 КОЗИН': [[0., 73.47]],\n",
    "    '13 ТУРЕВСКАЯ': [[0., 51.25]],\n",
    "    '7 КУДИНОВА': [[0., 45.96]],\n",
    "    '11 РОМАНАДЗЕ': [[34.26, 36.72]],\n",
    "    '35 ЗАПИСЬ': [[34.6, 67.33]],\n",
    "    '5 КЛИМОВА': [[36.38, 55.79]],\n",
    "    '12 ПОЛЯКОВ': [[52.07, 66.14], [105.05, 132.64], [277.72, 278.4]],\n",
    "    '23 ЗАПИСЬ': [[67.87, 70.44]],\n",
    "    '4 ЗЕМСКОВ': [[225.65, 257.95]],\n",
    "    '39 ЗАПИСЬ': [[2.17, 46.34]]\n",
    "}"
   ]
  },
  {
   "cell_type": "code",
   "execution_count": 50,
   "metadata": {},
   "outputs": [],
   "source": [
    "import json\n",
    "with open(\"intervals_dict.json\", \"w\") as write_file:\n",
    "    json.dump(intervals_dict, write_file)"
   ]
  },
  {
   "cell_type": "markdown",
   "metadata": {},
   "source": [
    "# добавим first_data.mp3 в df_phonemes"
   ]
  },
  {
   "cell_type": "code",
   "execution_count": 78,
   "metadata": {},
   "outputs": [],
   "source": [
    "first_df['username'] = 'first_data'\n",
    "df_phonemes = df_phonemes.append(first_df)\n",
    "df_phonemes = df_phonemes.sort_values(by=['start']).reset_index()[['start', 'end', 'notation', 'username']]"
   ]
  },
  {
   "cell_type": "markdown",
   "metadata": {},
   "source": [
    "## Отфильтровываем x по этим интервалам и находим их y"
   ]
  },
  {
   "cell_type": "code",
   "execution_count": 21,
   "metadata": {},
   "outputs": [],
   "source": [
    "def filter_coords(x, y, intervals):\n",
    "    pos_take = []\n",
    "    for pos, x_i in enumerate(x):\n",
    "        for interval in intervals:\n",
    "            if (x_i >= interval[0] or x_i <= interval[1]):\n",
    "                pos_take.append(pos)\n",
    "                break\n",
    "    return x[pos_take], y[pos_take]\n",
    "\n",
    "transformer = NormBordersDistribution(sr=160)\n",
    "x_y_dict = {}\n",
    "for key, value in intervals_dict.items():\n",
    "    x, y = transformer.convert_df_start_end_to_norm_borders_distribution(df_phonemes[df_phonemes['username'] == key])\n",
    "    x, y = filter_coords(x, y, value)\n",
    "    x_y_dict.update({key: {'x': x, 'y': y}})"
   ]
  },
  {
   "cell_type": "markdown",
   "metadata": {},
   "source": [
    "# Формируем Датасет"
   ]
  },
  {
   "cell_type": "markdown",
   "metadata": {},
   "source": [
    "## Применяем Вейвлет-преобразование ко всем промежуткам всех файлов из intervals_dict"
   ]
  },
  {
   "cell_type": "markdown",
   "metadata": {},
   "source": [
    "## Формируем pd таблицу из коэффициентов Вейвлет-преобразования и разметки следующего вида:\n",
    "  - Каждой строке соответствует маленький участок аудиофайла, равный двум фреймам\n",
    "  - Первые 2*n столбцов - это коэффициенты Вейвлет-преобразования (n штук для первого фрейма и n штук для второго фрейма, соответственно)\n",
    "  - Последний столбец - это y из x_y_dict, соответствующий конкретному x, который берется равный времени между двумя фреймами"
   ]
  },
  {
   "cell_type": "code",
   "execution_count": 26,
   "metadata": {},
   "outputs": [],
   "source": [
    "from wavelet_transformation import WaveletTransformation"
   ]
  },
  {
   "cell_type": "code",
   "execution_count": 27,
   "metadata": {},
   "outputs": [],
   "source": [
    "wavelet_transform = WaveletTransformation(sr=16000)"
   ]
  },
  {
   "cell_type": "code",
   "execution_count": 28,
   "metadata": {},
   "outputs": [
    {
     "name": "stderr",
     "output_type": "stream",
     "text": [
      "/Users/ilyalevuskin/opt/anaconda3/lib/python3.8/site-packages/librosa/core/audio.py:162: UserWarning: PySoundFile failed. Trying audioread instead.\n",
      "  warnings.warn(\"PySoundFile failed. Trying audioread instead.\")\n",
      "/Users/ilyalevuskin/github/diplom/diplom/wavelet/Data/wavelet_transformation.py:98: VisibleDeprecationWarning: Creating an ndarray from ragged nested sequences (which is a list-or-tuple of lists-or-tuples-or ndarrays with different lengths or shapes) is deprecated. If you meant to do this, you must specify 'dtype=object' when creating the ndarray\n",
      "  return np.array(wavedec(sig, method, level=level))\n"
     ]
    }
   ],
   "source": [
    "intervals_dict_keys = list(intervals_dict.keys())\n",
    "first_file_name = intervals_dict_keys[0]\n",
    "first_offset = intervals_dict.get(first_file_name)[0][0]\n",
    "first_duration = intervals_dict.get(first_file_name)[0][1] - first_offset\n",
    "_, first_frames_coeffs, first_coeffs_names = wavelet_transform.wavelet_load_data(first_offset, first_duration, \n",
    "                                                               './audio_data/' + first_file_name + '.mp3')"
   ]
  },
  {
   "cell_type": "code",
   "execution_count": 29,
   "metadata": {},
   "outputs": [],
   "source": [
    "from itertools import chain"
   ]
  },
  {
   "cell_type": "code",
   "execution_count": 30,
   "metadata": {},
   "outputs": [],
   "source": [
    "first_coeffs_names1 = list(map(lambda x: x[0:1] + '1' + x[1:], first_coeffs_names))\n",
    "first_coeffs_names2 = list(map(lambda x: x[0:1] + '2' + x[1:], first_coeffs_names))\n",
    "first_coeffs_names1.extend(first_coeffs_names2)\n",
    "first_coeffs_names1.append('y')\n",
    "main_columns = first_coeffs_names1"
   ]
  },
  {
   "cell_type": "code",
   "execution_count": 31,
   "metadata": {},
   "outputs": [
    {
     "name": "stderr",
     "output_type": "stream",
     "text": [
      "  0%|          | 0/14 [00:00<?, ?it/s]/Users/ilyalevuskin/opt/anaconda3/lib/python3.8/site-packages/librosa/core/audio.py:162: UserWarning: PySoundFile failed. Trying audioread instead.\n",
      "  warnings.warn(\"PySoundFile failed. Trying audioread instead.\")\n",
      "/Users/ilyalevuskin/github/diplom/diplom/wavelet/Data/wavelet_transformation.py:98: VisibleDeprecationWarning: Creating an ndarray from ragged nested sequences (which is a list-or-tuple of lists-or-tuples-or ndarrays with different lengths or shapes) is deprecated. If you meant to do this, you must specify 'dtype=object' when creating the ndarray\n",
      "  return np.array(wavedec(sig, method, level=level))\n",
      "  0%|          | 0/14 [00:02<?, ?it/s]\n"
     ]
    },
    {
     "ename": "NameError",
     "evalue": "name 'x_y_dict' is not defined",
     "output_type": "error",
     "traceback": [
      "\u001b[0;31m---------------------------------------------------------------------------\u001b[0m",
      "\u001b[0;31mNameError\u001b[0m                                 Traceback (most recent call last)",
      "\u001b[0;32m<ipython-input-31-3183a3edde64>\u001b[0m in \u001b[0;36m<module>\u001b[0;34m\u001b[0m\n\u001b[1;32m     32\u001b[0m         \u001b[0;32mfor\u001b[0m \u001b[0mpos\u001b[0m\u001b[0;34m,\u001b[0m \u001b[0mt\u001b[0m \u001b[0;32min\u001b[0m \u001b[0menumerate\u001b[0m\u001b[0;34m(\u001b[0m\u001b[0mt_positions_between_frames\u001b[0m\u001b[0;34m)\u001b[0m\u001b[0;34m:\u001b[0m\u001b[0;34m\u001b[0m\u001b[0;34m\u001b[0m\u001b[0m\n\u001b[1;32m     33\u001b[0m             \u001b[0;31m# получаем ближайшее к t предсказание из x_y_dict\u001b[0m\u001b[0;34m\u001b[0m\u001b[0;34m\u001b[0m\u001b[0;34m\u001b[0m\u001b[0m\n\u001b[0;32m---> 34\u001b[0;31m             \u001b[0my\u001b[0m \u001b[0;34m=\u001b[0m \u001b[0mget_y_from_x_y_dict\u001b[0m\u001b[0;34m(\u001b[0m\u001b[0mfile_name\u001b[0m\u001b[0;34m,\u001b[0m \u001b[0mt\u001b[0m\u001b[0;34m)\u001b[0m\u001b[0;34m\u001b[0m\u001b[0;34m\u001b[0m\u001b[0m\n\u001b[0m\u001b[1;32m     35\u001b[0m             \u001b[0;31m# сдвоенные Вейвлет-коэффициенты (2*n) - 2 фрейма\u001b[0m\u001b[0;34m\u001b[0m\u001b[0;34m\u001b[0m\u001b[0;34m\u001b[0m\u001b[0m\n\u001b[1;32m     36\u001b[0m             \u001b[0mtwin_coeffs\u001b[0m \u001b[0;34m=\u001b[0m \u001b[0mlist\u001b[0m\u001b[0;34m(\u001b[0m\u001b[0mchain\u001b[0m\u001b[0;34m(\u001b[0m\u001b[0;34m*\u001b[0m\u001b[0mframes_coeffs\u001b[0m\u001b[0;34m[\u001b[0m\u001b[0mpos\u001b[0m\u001b[0;34m]\u001b[0m\u001b[0;34m)\u001b[0m\u001b[0;34m)\u001b[0m\u001b[0;34m\u001b[0m\u001b[0;34m\u001b[0m\u001b[0m\n",
      "\u001b[0;32m<ipython-input-31-3183a3edde64>\u001b[0m in \u001b[0;36mget_y_from_x_y_dict\u001b[0;34m(file_name, x)\u001b[0m\n\u001b[1;32m      1\u001b[0m \u001b[0;32mdef\u001b[0m \u001b[0mget_y_from_x_y_dict\u001b[0m\u001b[0;34m(\u001b[0m\u001b[0mfile_name\u001b[0m\u001b[0;34m,\u001b[0m \u001b[0mx\u001b[0m\u001b[0;34m)\u001b[0m\u001b[0;34m:\u001b[0m\u001b[0;34m\u001b[0m\u001b[0;34m\u001b[0m\u001b[0m\n\u001b[0;32m----> 2\u001b[0;31m     \u001b[0mcur_x_y_dict\u001b[0m \u001b[0;34m=\u001b[0m \u001b[0mx_y_dict\u001b[0m\u001b[0;34m.\u001b[0m\u001b[0mget\u001b[0m\u001b[0;34m(\u001b[0m\u001b[0mfile_name\u001b[0m\u001b[0;34m)\u001b[0m\u001b[0;34m\u001b[0m\u001b[0;34m\u001b[0m\u001b[0m\n\u001b[0m\u001b[1;32m      3\u001b[0m     \u001b[0mbefore_dif\u001b[0m \u001b[0;34m=\u001b[0m \u001b[0mx\u001b[0m \u001b[0;34m-\u001b[0m \u001b[0mcur_x_y_dict\u001b[0m\u001b[0;34m.\u001b[0m\u001b[0mget\u001b[0m\u001b[0;34m(\u001b[0m\u001b[0;34m'x'\u001b[0m\u001b[0;34m)\u001b[0m\u001b[0;34m[\u001b[0m\u001b[0;36m0\u001b[0m\u001b[0;34m]\u001b[0m\u001b[0;34m\u001b[0m\u001b[0;34m\u001b[0m\u001b[0m\n\u001b[1;32m      4\u001b[0m     \u001b[0mbefore_y\u001b[0m \u001b[0;34m=\u001b[0m \u001b[0mcur_x_y_dict\u001b[0m\u001b[0;34m.\u001b[0m\u001b[0mget\u001b[0m\u001b[0;34m(\u001b[0m\u001b[0;34m'y'\u001b[0m\u001b[0;34m)\u001b[0m\u001b[0;34m[\u001b[0m\u001b[0;36m0\u001b[0m\u001b[0;34m]\u001b[0m\u001b[0;34m\u001b[0m\u001b[0;34m\u001b[0m\u001b[0m\n\u001b[1;32m      5\u001b[0m     \u001b[0;32mif\u001b[0m \u001b[0;34m(\u001b[0m\u001b[0mbefore_dif\u001b[0m \u001b[0;34m<\u001b[0m \u001b[0;36m0\u001b[0m\u001b[0;34m)\u001b[0m\u001b[0;34m:\u001b[0m\u001b[0;34m\u001b[0m\u001b[0;34m\u001b[0m\u001b[0m\n",
      "\u001b[0;31mNameError\u001b[0m: name 'x_y_dict' is not defined"
     ]
    }
   ],
   "source": [
    "def get_y_from_x_y_dict(file_name, x):\n",
    "    cur_x_y_dict = x_y_dict.get(file_name)\n",
    "    before_dif = x - cur_x_y_dict.get('x')[0]\n",
    "    before_y = cur_x_y_dict.get('y')[0]\n",
    "    if (before_dif < 0):\n",
    "        return before_y\n",
    "    for cur_x, y in zip(cur_x_y_dict.get('x'), cur_x_y_dict.get('y')):\n",
    "        dif = x - cur_x\n",
    "        # если дошли до ситуации когда: before_dif  x  dif\n",
    "        if (dif < 0):\n",
    "            # сравниваем, что ближе, предыдущая точка к x или текущая\n",
    "            if (dif > before_dif):\n",
    "                return y\n",
    "            else:\n",
    "                return before_y\n",
    "        before_dif = dif\n",
    "        before_y = y\n",
    "    return cur_x_y_dict.get('y')[-1]\n",
    "\n",
    "twin_coeffs_list = []\n",
    "for file_name, intervals in tqdm(intervals_dict.items()):\n",
    "    for interval in intervals:\n",
    "        # получаем дискретный сигнал и коэффициенты фреймов\n",
    "        _, frames_coeffs, _ = wavelet_transform.wavelet_load_data(interval[0],\\\n",
    "                                                    interval[1]-interval[0],\\\n",
    "                                                    './audio_data/' + file_name + '.mp3')\n",
    "        # получаем временные промежутки между фреймами (убираем первый, потому что он перед первым фреймом)\n",
    "        t_positions_between_frames = wavelet_transform.get_t_between_frames(interval[0], frames_coeffs)[1:]\n",
    "        #print(len(t_positions_between_frames), len(frames_coeffs))\n",
    "        # формируем список сдвоенных Вейвлет-коэффициентов (2*n) - по два фрейма (длина списка - t_positions_between_frames)\n",
    "        # и добавляем к нему соотв y из x_y_dict\n",
    "        for pos, t in enumerate(t_positions_between_frames):\n",
    "            # получаем ближайшее к t предсказание из x_y_dict\n",
    "            y = get_y_from_x_y_dict(file_name, t)\n",
    "            # сдвоенные Вейвлет-коэффициенты (2*n) - 2 фрейма\n",
    "            twin_coeffs = list(chain(*frames_coeffs[pos]))\n",
    "            twin_coeffs.extend(list(chain(*frames_coeffs[pos + 1])))\n",
    "            # объединяем twin_coeffs и y\n",
    "            twin_coeffs.append(y)\n",
    "            \n",
    "            twin_coeffs_list.append(twin_coeffs)\n",
    "\n",
    "            "
   ]
  },
  {
   "cell_type": "code",
   "execution_count": null,
   "metadata": {},
   "outputs": [],
   "source": [
    "main_df = pd.DataFrame(twin_coeffs_list, columns=main_columns)"
   ]
  },
  {
   "cell_type": "code",
   "execution_count": null,
   "metadata": {},
   "outputs": [],
   "source": [
    "main_df.head()"
   ]
  },
  {
   "cell_type": "markdown",
   "metadata": {},
   "source": [
    "# Обучаем регрессионную модель"
   ]
  },
  {
   "cell_type": "code",
   "execution_count": 296,
   "metadata": {},
   "outputs": [],
   "source": [
    "from sklearn.ensemble import GradientBoostingRegressor"
   ]
  },
  {
   "cell_type": "code",
   "execution_count": 299,
   "metadata": {},
   "outputs": [],
   "source": [
    "model = GradientBoostingRegressor(verbose=1)"
   ]
  },
  {
   "cell_type": "code",
   "execution_count": 300,
   "metadata": {},
   "outputs": [
    {
     "name": "stdout",
     "output_type": "stream",
     "text": [
      "      Iter       Train Loss   Remaining Time \n",
      "         1         242.9455            5.81m\n",
      "         2         239.7277            5.82m\n",
      "         3         237.7873            5.74m\n",
      "         4         236.0132            5.64m\n",
      "         5         233.6308            5.58m\n",
      "         6         232.0825            5.50m\n",
      "         7         230.4955            5.43m\n",
      "         8         228.3340            5.36m\n",
      "         9         227.0508            5.31m\n",
      "        10         225.0079            5.25m\n",
      "        20         212.3961            4.70m\n",
      "        30         202.3392            4.20m\n",
      "        40         195.6377            3.63m\n",
      "        50         189.7446            3.07m\n",
      "        60         185.5982            2.47m\n",
      "        70         181.7340            1.85m\n",
      "        80         178.4309            1.24m\n",
      "        90         175.2125           37.13s\n",
      "       100         172.0132            0.00s\n"
     ]
    },
    {
     "data": {
      "text/plain": [
       "GradientBoostingRegressor(verbose=1)"
      ]
     },
     "execution_count": 300,
     "metadata": {},
     "output_type": "execute_result"
    }
   ],
   "source": [
    "model.fit(main_df.drop(axis=0, columns=['y']), main_df['y'])"
   ]
  },
  {
   "cell_type": "markdown",
   "metadata": {},
   "source": [
    "# Проверяем на тестовых данных"
   ]
  },
  {
   "cell_type": "code",
   "execution_count": 301,
   "metadata": {},
   "outputs": [
    {
     "name": "stderr",
     "output_type": "stream",
     "text": [
      "/Users/ilyalevuskin/opt/anaconda3/lib/python3.8/site-packages/librosa/core/audio.py:162: UserWarning: PySoundFile failed. Trying audioread instead.\n",
      "  warnings.warn(\"PySoundFile failed. Trying audioread instead.\")\n",
      "/Users/ilyalevuskin/github/diplom/diplom/wavelet/Data/wavelet_transformation.py:96: VisibleDeprecationWarning: Creating an ndarray from ragged nested sequences (which is a list-or-tuple of lists-or-tuples-or ndarrays with different lengths or shapes) is deprecated. If you meant to do this, you must specify 'dtype=object' when creating the ndarray\n",
      "  \n"
     ]
    }
   ],
   "source": [
    "_, test_frames_coeffs, _ = wavelet_transform.wavelet_load_data(0., 3.8, './test_data/' + 'fast_mama' + '.mp3')\n"
   ]
  },
  {
   "cell_type": "code",
   "execution_count": 302,
   "metadata": {},
   "outputs": [],
   "source": [
    "test_t_positions_between_frames = wavelet_transform.get_t_between_frames(0, test_frames_coeffs)[1:]"
   ]
  },
  {
   "cell_type": "code",
   "execution_count": 303,
   "metadata": {},
   "outputs": [],
   "source": [
    "test_twin_coeffs_list = []\n",
    "for pos, t in enumerate(test_t_positions_between_frames):\n",
    "    # сдвоенные Вейвлет-коэффициенты (2*n) - 2 фрейма\n",
    "    test_twin_coeffs = list(chain(*test_frames_coeffs[pos]))\n",
    "    test_twin_coeffs.extend(list(chain(*test_frames_coeffs[pos + 1])))\n",
    "\n",
    "    test_twin_coeffs_list.append(test_twin_coeffs)"
   ]
  },
  {
   "cell_type": "code",
   "execution_count": 304,
   "metadata": {},
   "outputs": [],
   "source": [
    "predictions = model.predict(test_twin_coeffs_list)"
   ]
  },
  {
   "cell_type": "code",
   "execution_count": 305,
   "metadata": {},
   "outputs": [
    {
     "data": {
      "image/png": "[encoded data removed]",
      "text/plain": [
       "<Figure size 432x288 with 1 Axes>"
      ]
     },
     "metadata": {
      "needs_background": "light"
     },
     "output_type": "display_data"
    }
   ],
   "source": [
    "fig, ax = plt.subplots(1,1)\n",
    "ax.plot(test_t_positions_between_frames, predictions)\n",
    "ax.hlines(3.2, 0, 1)\n",
    "plt.show()"
   ]
  },
  {
   "cell_type": "code",
   "execution_count": 306,
   "metadata": {},
   "outputs": [
    {
     "name": "stdout",
     "output_type": "stream",
     "text": [
      "39.894228040144505\n",
      "39.894228040144505\n",
      "39.894228040144505\n",
      "39.894228040144505\n",
      "39.894228040144505\n",
      "39.894228040144505\n",
      "39.89407412752478\n",
      "39.89061352716907\n",
      "39.894228040144505\n",
      "39.894228040144505\n",
      "39.84439140947715\n",
      "39.894228040144505\n",
      "39.8934488636123\n",
      "39.894228040144505\n"
     ]
    }
   ],
   "source": [
    "for value in x_y_dict.values():\n",
    "    print(value.get('y').max())"
   ]
  },
  {
   "cell_type": "markdown",
   "metadata": {},
   "source": [
    "# Такое себе"
   ]
  },
  {
   "cell_type": "markdown",
   "metadata": {},
   "source": [
    "# Уменьшаем distance в NormBordersDistribution и формируем новый x_y_dict "
   ]
  },
  {
   "cell_type": "code",
   "execution_count": 268,
   "metadata": {},
   "outputs": [],
   "source": [
    "def filter_coords(x, y, intervals):\n",
    "    pos_take = []\n",
    "    for pos, x_i in enumerate(x):\n",
    "        for interval in intervals:\n",
    "            if (x_i >= interval[0] or x_i <= interval[1]):\n",
    "                pos_take.append(pos)\n",
    "                break\n",
    "    return x[pos_take], y[pos_take]\n",
    "\n",
    "transformer = NormBordersDistribution(sr=160, distance=0.0005)\n",
    "x_y_dict = {}\n",
    "for key, value in intervals_dict.items():\n",
    "    x, y = transformer.convert_df_start_end_to_norm_borders_distribution(df_phonemes[df_phonemes['username'] == key])\n",
    "    x, y = filter_coords(x, y, value)\n",
    "    x_y_dict.update({key: {'x': x, 'y': y}})"
   ]
  },
  {
   "cell_type": "markdown",
   "metadata": {},
   "source": [
    "# Формируем датасет для модели классификации"
   ]
  },
  {
   "cell_type": "markdown",
   "metadata": {},
   "source": [
    "## Применяем Вейвлет-преобразование ко всем промежуткам всех файлов из intervals_dict"
   ]
  },
  {
   "cell_type": "code",
   "execution_count": 79,
   "metadata": {},
   "outputs": [],
   "source": [
    "from wavelet_transformation import WaveletTransformation"
   ]
  },
  {
   "cell_type": "code",
   "execution_count": 80,
   "metadata": {},
   "outputs": [],
   "source": [
    "wavelet_transform = WaveletTransformation(sr=16000, frame_sz=2500)"
   ]
  },
  {
   "cell_type": "markdown",
   "metadata": {},
   "source": [
    "## Формируем pd таблицу из коэффициентов Вейвлет-преобразования и разметки следующего вида:\n",
    "  - Каждой строке соответствует маленький участок аудиофайла, равный одному фрейму\n",
    "  - Первые n столбцов - это коэффициенты Вейвлет-преобразования (n штук для фрейма)\n",
    "  - Последний столбец - это {0,1} 0 - нет границ на данном учатке, 1 - есть граница на данном участке"
   ]
  },
  {
   "cell_type": "code",
   "execution_count": 81,
   "metadata": {},
   "outputs": [
    {
     "name": "stderr",
     "output_type": "stream",
     "text": [
      "/Users/ilyalevuskin/opt/anaconda3/lib/python3.8/site-packages/librosa/core/audio.py:162: UserWarning: PySoundFile failed. Trying audioread instead.\n",
      "  warnings.warn(\"PySoundFile failed. Trying audioread instead.\")\n",
      "/Users/ilyalevuskin/github/diplom/diplom/wavelet/Data/wavelet_transformation.py:98: VisibleDeprecationWarning: Creating an ndarray from ragged nested sequences (which is a list-or-tuple of lists-or-tuples-or ndarrays with different lengths or shapes) is deprecated. If you meant to do this, you must specify 'dtype=object' when creating the ndarray\n",
      "  return np.array(wavedec(sig, method, level=level))\n"
     ]
    }
   ],
   "source": [
    "intervals_dict_keys = list(intervals_dict.keys())\n",
    "first_file_name = intervals_dict_keys[0]\n",
    "first_offset = intervals_dict.get(first_file_name)[0][0]\n",
    "first_duration = intervals_dict.get(first_file_name)[0][1] - first_offset\n",
    "_, first_frames_coeffs, first_coeffs_names = wavelet_transform.wavelet_load_data(first_offset, first_duration, \n",
    "                                                               './audio_data/' + first_file_name + '.mp3')"
   ]
  },
  {
   "cell_type": "code",
   "execution_count": 82,
   "metadata": {},
   "outputs": [],
   "source": [
    "transformer = NormBordersDistribution()"
   ]
  },
  {
   "cell_type": "code",
   "execution_count": 83,
   "metadata": {},
   "outputs": [],
   "source": [
    "first_coeffs_names.append('y')"
   ]
  },
  {
   "cell_type": "code",
   "execution_count": 84,
   "metadata": {},
   "outputs": [
    {
     "name": "stderr",
     "output_type": "stream",
     "text": [
      "  0%|          | 0/12 [00:00<?, ?it/s]/Users/ilyalevuskin/opt/anaconda3/lib/python3.8/site-packages/librosa/core/audio.py:162: UserWarning: PySoundFile failed. Trying audioread instead.\n",
      "  warnings.warn(\"PySoundFile failed. Trying audioread instead.\")\n",
      "/Users/ilyalevuskin/github/diplom/diplom/wavelet/Data/wavelet_transformation.py:98: VisibleDeprecationWarning: Creating an ndarray from ragged nested sequences (which is a list-or-tuple of lists-or-tuples-or ndarrays with different lengths or shapes) is deprecated. If you meant to do this, you must specify 'dtype=object' when creating the ndarray\n",
      "  return np.array(wavedec(sig, method, level=level))\n",
      "/Users/ilyalevuskin/opt/anaconda3/lib/python3.8/site-packages/librosa/core/audio.py:162: UserWarning: PySoundFile failed. Trying audioread instead.\n",
      "  warnings.warn(\"PySoundFile failed. Trying audioread instead.\")\n",
      "/Users/ilyalevuskin/github/diplom/diplom/wavelet/Data/wavelet_transformation.py:98: VisibleDeprecationWarning: Creating an ndarray from ragged nested sequences (which is a list-or-tuple of lists-or-tuples-or ndarrays with different lengths or shapes) is deprecated. If you meant to do this, you must specify 'dtype=object' when creating the ndarray\n",
      "  return np.array(wavedec(sig, method, level=level))\n",
      "  8%|▊         | 1/12 [00:05<00:58,  5.33s/it]/Users/ilyalevuskin/opt/anaconda3/lib/python3.8/site-packages/librosa/core/audio.py:162: UserWarning: PySoundFile failed. Trying audioread instead.\n",
      "  warnings.warn(\"PySoundFile failed. Trying audioread instead.\")\n",
      "/Users/ilyalevuskin/github/diplom/diplom/wavelet/Data/wavelet_transformation.py:98: VisibleDeprecationWarning: Creating an ndarray from ragged nested sequences (which is a list-or-tuple of lists-or-tuples-or ndarrays with different lengths or shapes) is deprecated. If you meant to do this, you must specify 'dtype=object' when creating the ndarray\n",
      "  return np.array(wavedec(sig, method, level=level))\n",
      " 17%|█▋        | 2/12 [00:08<00:47,  4.78s/it]/Users/ilyalevuskin/opt/anaconda3/lib/python3.8/site-packages/librosa/core/audio.py:162: UserWarning: PySoundFile failed. Trying audioread instead.\n",
      "  warnings.warn(\"PySoundFile failed. Trying audioread instead.\")\n",
      "/Users/ilyalevuskin/github/diplom/diplom/wavelet/Data/wavelet_transformation.py:98: VisibleDeprecationWarning: Creating an ndarray from ragged nested sequences (which is a list-or-tuple of lists-or-tuples-or ndarrays with different lengths or shapes) is deprecated. If you meant to do this, you must specify 'dtype=object' when creating the ndarray\n",
      "  return np.array(wavedec(sig, method, level=level))\n",
      " 25%|██▌       | 3/12 [00:12<00:39,  4.35s/it]/Users/ilyalevuskin/opt/anaconda3/lib/python3.8/site-packages/librosa/core/audio.py:162: UserWarning: PySoundFile failed. Trying audioread instead.\n",
      "  warnings.warn(\"PySoundFile failed. Trying audioread instead.\")\n",
      "/Users/ilyalevuskin/github/diplom/diplom/wavelet/Data/wavelet_transformation.py:98: VisibleDeprecationWarning: Creating an ndarray from ragged nested sequences (which is a list-or-tuple of lists-or-tuples-or ndarrays with different lengths or shapes) is deprecated. If you meant to do this, you must specify 'dtype=object' when creating the ndarray\n",
      "  return np.array(wavedec(sig, method, level=level))\n",
      " 33%|███▎      | 4/12 [00:14<00:29,  3.68s/it]/Users/ilyalevuskin/opt/anaconda3/lib/python3.8/site-packages/librosa/core/audio.py:162: UserWarning: PySoundFile failed. Trying audioread instead.\n",
      "  warnings.warn(\"PySoundFile failed. Trying audioread instead.\")\n",
      "/Users/ilyalevuskin/github/diplom/diplom/wavelet/Data/wavelet_transformation.py:98: VisibleDeprecationWarning: Creating an ndarray from ragged nested sequences (which is a list-or-tuple of lists-or-tuples-or ndarrays with different lengths or shapes) is deprecated. If you meant to do this, you must specify 'dtype=object' when creating the ndarray\n",
      "  return np.array(wavedec(sig, method, level=level))\n",
      " 42%|████▏     | 5/12 [00:16<00:22,  3.28s/it]/Users/ilyalevuskin/opt/anaconda3/lib/python3.8/site-packages/librosa/core/audio.py:162: UserWarning: PySoundFile failed. Trying audioread instead.\n",
      "  warnings.warn(\"PySoundFile failed. Trying audioread instead.\")\n",
      "/Users/ilyalevuskin/github/diplom/diplom/wavelet/Data/wavelet_transformation.py:98: VisibleDeprecationWarning: Creating an ndarray from ragged nested sequences (which is a list-or-tuple of lists-or-tuples-or ndarrays with different lengths or shapes) is deprecated. If you meant to do this, you must specify 'dtype=object' when creating the ndarray\n",
      "  return np.array(wavedec(sig, method, level=level))\n",
      " 50%|█████     | 6/12 [00:16<00:14,  2.37s/it]/Users/ilyalevuskin/opt/anaconda3/lib/python3.8/site-packages/librosa/core/audio.py:162: UserWarning: PySoundFile failed. Trying audioread instead.\n",
      "  warnings.warn(\"PySoundFile failed. Trying audioread instead.\")\n",
      "/Users/ilyalevuskin/github/diplom/diplom/wavelet/Data/wavelet_transformation.py:98: VisibleDeprecationWarning: Creating an ndarray from ragged nested sequences (which is a list-or-tuple of lists-or-tuples-or ndarrays with different lengths or shapes) is deprecated. If you meant to do this, you must specify 'dtype=object' when creating the ndarray\n",
      "  return np.array(wavedec(sig, method, level=level))\n",
      " 58%|█████▊    | 7/12 [00:17<00:08,  1.72s/it]/Users/ilyalevuskin/opt/anaconda3/lib/python3.8/site-packages/librosa/core/audio.py:162: UserWarning: PySoundFile failed. Trying audioread instead.\n",
      "  warnings.warn(\"PySoundFile failed. Trying audioread instead.\")\n",
      "/Users/ilyalevuskin/github/diplom/diplom/wavelet/Data/wavelet_transformation.py:98: VisibleDeprecationWarning: Creating an ndarray from ragged nested sequences (which is a list-or-tuple of lists-or-tuples-or ndarrays with different lengths or shapes) is deprecated. If you meant to do this, you must specify 'dtype=object' when creating the ndarray\n",
      "  return np.array(wavedec(sig, method, level=level))\n",
      " 67%|██████▋   | 8/12 [00:18<00:06,  1.50s/it]/Users/ilyalevuskin/opt/anaconda3/lib/python3.8/site-packages/librosa/core/audio.py:162: UserWarning: PySoundFile failed. Trying audioread instead.\n",
      "  warnings.warn(\"PySoundFile failed. Trying audioread instead.\")\n",
      "/Users/ilyalevuskin/github/diplom/diplom/wavelet/Data/wavelet_transformation.py:98: VisibleDeprecationWarning: Creating an ndarray from ragged nested sequences (which is a list-or-tuple of lists-or-tuples-or ndarrays with different lengths or shapes) is deprecated. If you meant to do this, you must specify 'dtype=object' when creating the ndarray\n",
      "  return np.array(wavedec(sig, method, level=level))\n",
      "/Users/ilyalevuskin/opt/anaconda3/lib/python3.8/site-packages/librosa/core/audio.py:162: UserWarning: PySoundFile failed. Trying audioread instead.\n",
      "  warnings.warn(\"PySoundFile failed. Trying audioread instead.\")\n",
      "/Users/ilyalevuskin/github/diplom/diplom/wavelet/Data/wavelet_transformation.py:98: VisibleDeprecationWarning: Creating an ndarray from ragged nested sequences (which is a list-or-tuple of lists-or-tuples-or ndarrays with different lengths or shapes) is deprecated. If you meant to do this, you must specify 'dtype=object' when creating the ndarray\n",
      "  return np.array(wavedec(sig, method, level=level))\n",
      "/Users/ilyalevuskin/opt/anaconda3/lib/python3.8/site-packages/librosa/core/audio.py:162: UserWarning: PySoundFile failed. Trying audioread instead.\n",
      "  warnings.warn(\"PySoundFile failed. Trying audioread instead.\")\n",
      "/Users/ilyalevuskin/github/diplom/diplom/wavelet/Data/wavelet_transformation.py:98: VisibleDeprecationWarning: Creating an ndarray from ragged nested sequences (which is a list-or-tuple of lists-or-tuples-or ndarrays with different lengths or shapes) is deprecated. If you meant to do this, you must specify 'dtype=object' when creating the ndarray\n",
      "  return np.array(wavedec(sig, method, level=level))\n",
      " 75%|███████▌  | 9/12 [00:20<00:05,  1.86s/it]/Users/ilyalevuskin/opt/anaconda3/lib/python3.8/site-packages/librosa/core/audio.py:162: UserWarning: PySoundFile failed. Trying audioread instead.\n",
      "  warnings.warn(\"PySoundFile failed. Trying audioread instead.\")\n",
      "/Users/ilyalevuskin/github/diplom/diplom/wavelet/Data/wavelet_transformation.py:98: VisibleDeprecationWarning: Creating an ndarray from ragged nested sequences (which is a list-or-tuple of lists-or-tuples-or ndarrays with different lengths or shapes) is deprecated. If you meant to do this, you must specify 'dtype=object' when creating the ndarray\n",
      "  return np.array(wavedec(sig, method, level=level))\n"
     ]
    },
    {
     "name": "stderr",
     "output_type": "stream",
     "text": [
      " 83%|████████▎ | 10/12 [00:21<00:02,  1.40s/it]/Users/ilyalevuskin/opt/anaconda3/lib/python3.8/site-packages/librosa/core/audio.py:162: UserWarning: PySoundFile failed. Trying audioread instead.\n",
      "  warnings.warn(\"PySoundFile failed. Trying audioread instead.\")\n",
      "/Users/ilyalevuskin/github/diplom/diplom/wavelet/Data/wavelet_transformation.py:98: VisibleDeprecationWarning: Creating an ndarray from ragged nested sequences (which is a list-or-tuple of lists-or-tuples-or ndarrays with different lengths or shapes) is deprecated. If you meant to do this, you must specify 'dtype=object' when creating the ndarray\n",
      "  return np.array(wavedec(sig, method, level=level))\n",
      " 92%|█████████▏| 11/12 [00:23<00:01,  1.64s/it]/Users/ilyalevuskin/opt/anaconda3/lib/python3.8/site-packages/librosa/core/audio.py:162: UserWarning: PySoundFile failed. Trying audioread instead.\n",
      "  warnings.warn(\"PySoundFile failed. Trying audioread instead.\")\n",
      "/Users/ilyalevuskin/github/diplom/diplom/wavelet/Data/wavelet_transformation.py:98: VisibleDeprecationWarning: Creating an ndarray from ragged nested sequences (which is a list-or-tuple of lists-or-tuples-or ndarrays with different lengths or shapes) is deprecated. If you meant to do this, you must specify 'dtype=object' when creating the ndarray\n",
      "  return np.array(wavedec(sig, method, level=level))\n",
      "100%|██████████| 12/12 [00:25<00:00,  2.11s/it]\n"
     ]
    }
   ],
   "source": [
    "def filter_borders(borders, interval):\n",
    "    res = []\n",
    "    for border in borders:\n",
    "        if border >= interval[0] and border <= interval[1]:\n",
    "            res.append(border)\n",
    "    return res\n",
    "\n",
    "res_data = []\n",
    "for file_name, intervals in tqdm(intervals_dict.items()):\n",
    "    for interval in intervals:\n",
    "        # получаем дискретный сигнал и коэффициенты фреймов\n",
    "        _, frames_coeffs, _ = wavelet_transform.wavelet_load_data(interval[0],\\\n",
    "                                                    interval[1]-interval[0],\\\n",
    "                                                    './audio_data/' + file_name + '.mp3')\n",
    "        # получаем временные промежутки между фреймами\n",
    "        t_positions_between_frames = wavelet_transform.get_t_between_frames(interval[0], frames_coeffs)\n",
    "        #print(len(t_positions_between_frames), len(frames_coeffs))\n",
    "        # формируем список Вейвлет-коэффициентов (n) - фрейм (длина списка - t_positions_between_frames)\n",
    "        # и добавляем к нему y={0,1}\n",
    "        y = np.zeros(frames_coeffs.shape[0])\n",
    "        borders = transformer._borders_preprocessing(df_phonemes[df_phonemes['username'] == file_name], 'start', 'end')\n",
    "        # оставляем только те границы, что лежат в интервале interval\n",
    "        borders = filter_borders(borders, interval)\n",
    "        for border in borders:\n",
    "            for t_pos in range(len(t_positions_between_frames)):\n",
    "                if t_positions_between_frames[t_pos] > border:\n",
    "                    y[t_pos] = 1.\n",
    "                    break\n",
    "        # преобразуем frames_coeffs\n",
    "        res_data_i = []\n",
    "        for frames, y_i in zip(frames_coeffs, y):\n",
    "            lst_i = [np.square(frame).sum() for frame in frames]\n",
    "            lst_i.append(y_i)\n",
    "            res_data_i.append(lst_i)\n",
    "        res_data.extend(res_data_i)\n",
    "            "
   ]
  },
  {
   "cell_type": "code",
   "execution_count": 85,
   "metadata": {},
   "outputs": [],
   "source": [
    "from itertools import chain"
   ]
  },
  {
   "cell_type": "code",
   "execution_count": 86,
   "metadata": {},
   "outputs": [
    {
     "data": {
      "text/plain": [
       "5349"
      ]
     },
     "execution_count": 86,
     "metadata": {},
     "output_type": "execute_result"
    }
   ],
   "source": [
    "len(res_data)"
   ]
  },
  {
   "cell_type": "code",
   "execution_count": 87,
   "metadata": {},
   "outputs": [],
   "source": [
    "res_data = np.array(res_data)"
   ]
  },
  {
   "cell_type": "code",
   "execution_count": 88,
   "metadata": {},
   "outputs": [
    {
     "data": {
      "text/plain": [
       "2538"
      ]
     },
     "execution_count": 88,
     "metadata": {},
     "output_type": "execute_result"
    }
   ],
   "source": [
    "len(first_coeffs_names)"
   ]
  },
  {
   "cell_type": "code",
   "execution_count": 89,
   "metadata": {},
   "outputs": [],
   "source": [
    "columns = ['D' + str(i) for i in range(res_data.shape[1] - 2, 0, -1)]\n",
    "columns.insert(0, 'A')\n",
    "columns.append('y')\n",
    "main_df = pd.DataFrame(res_data, columns=columns)"
   ]
  },
  {
   "cell_type": "code",
   "execution_count": 90,
   "metadata": {},
   "outputs": [],
   "source": [
    "main_df['y'] = main_df['y'].astype('int64')"
   ]
  },
  {
   "cell_type": "code",
   "execution_count": 91,
   "metadata": {},
   "outputs": [
    {
     "data": {
      "text/html": [
       "<div>\n",
       "<style scoped>\n",
       "    .dataframe tbody tr th:only-of-type {\n",
       "        vertical-align: middle;\n",
       "    }\n",
       "\n",
       "    .dataframe tbody tr th {\n",
       "        vertical-align: top;\n",
       "    }\n",
       "\n",
       "    .dataframe thead th {\n",
       "        text-align: right;\n",
       "    }\n",
       "</style>\n",
       "<table border=\"1\" class=\"dataframe\">\n",
       "  <thead>\n",
       "    <tr style=\"text-align: right;\">\n",
       "      <th></th>\n",
       "      <th>A</th>\n",
       "      <th>D6</th>\n",
       "      <th>D5</th>\n",
       "      <th>D4</th>\n",
       "      <th>D3</th>\n",
       "      <th>D2</th>\n",
       "      <th>D1</th>\n",
       "      <th>y</th>\n",
       "    </tr>\n",
       "  </thead>\n",
       "  <tbody>\n",
       "    <tr>\n",
       "      <th>0</th>\n",
       "      <td>0.370346</td>\n",
       "      <td>0.036162</td>\n",
       "      <td>0.008359</td>\n",
       "      <td>0.005514</td>\n",
       "      <td>0.003693</td>\n",
       "      <td>0.000878</td>\n",
       "      <td>0.000282</td>\n",
       "      <td>0</td>\n",
       "    </tr>\n",
       "    <tr>\n",
       "      <th>1</th>\n",
       "      <td>0.183452</td>\n",
       "      <td>0.017338</td>\n",
       "      <td>0.005066</td>\n",
       "      <td>0.013293</td>\n",
       "      <td>0.023322</td>\n",
       "      <td>0.034638</td>\n",
       "      <td>0.032226</td>\n",
       "      <td>0</td>\n",
       "    </tr>\n",
       "    <tr>\n",
       "      <th>2</th>\n",
       "      <td>0.353358</td>\n",
       "      <td>0.167691</td>\n",
       "      <td>0.282729</td>\n",
       "      <td>0.131143</td>\n",
       "      <td>0.381814</td>\n",
       "      <td>0.587172</td>\n",
       "      <td>0.426257</td>\n",
       "      <td>0</td>\n",
       "    </tr>\n",
       "    <tr>\n",
       "      <th>3</th>\n",
       "      <td>0.323406</td>\n",
       "      <td>0.262218</td>\n",
       "      <td>0.069091</td>\n",
       "      <td>0.055007</td>\n",
       "      <td>0.040648</td>\n",
       "      <td>0.026790</td>\n",
       "      <td>0.013941</td>\n",
       "      <td>0</td>\n",
       "    </tr>\n",
       "    <tr>\n",
       "      <th>4</th>\n",
       "      <td>0.223665</td>\n",
       "      <td>0.092746</td>\n",
       "      <td>0.053610</td>\n",
       "      <td>0.016068</td>\n",
       "      <td>0.003124</td>\n",
       "      <td>0.001213</td>\n",
       "      <td>0.001116</td>\n",
       "      <td>0</td>\n",
       "    </tr>\n",
       "  </tbody>\n",
       "</table>\n",
       "</div>"
      ],
      "text/plain": [
       "          A        D6        D5        D4        D3        D2        D1  y\n",
       "0  0.370346  0.036162  0.008359  0.005514  0.003693  0.000878  0.000282  0\n",
       "1  0.183452  0.017338  0.005066  0.013293  0.023322  0.034638  0.032226  0\n",
       "2  0.353358  0.167691  0.282729  0.131143  0.381814  0.587172  0.426257  0\n",
       "3  0.323406  0.262218  0.069091  0.055007  0.040648  0.026790  0.013941  0\n",
       "4  0.223665  0.092746  0.053610  0.016068  0.003124  0.001213  0.001116  0"
      ]
     },
     "execution_count": 91,
     "metadata": {},
     "output_type": "execute_result"
    }
   ],
   "source": [
    "main_df.head()"
   ]
  },
  {
   "cell_type": "markdown",
   "metadata": {},
   "source": [
    "# Обучаем модель классификации"
   ]
  },
  {
   "cell_type": "code",
   "execution_count": 40,
   "metadata": {},
   "outputs": [],
   "source": [
    "from sklearn.svm import SVC"
   ]
  },
  {
   "cell_type": "code",
   "execution_count": 148,
   "metadata": {},
   "outputs": [],
   "source": [
    "model = SVC(kernel='linear')"
   ]
  },
  {
   "cell_type": "code",
   "execution_count": 149,
   "metadata": {},
   "outputs": [
    {
     "data": {
      "text/plain": [
       "SVC(kernel='linear')"
      ]
     },
     "execution_count": 149,
     "metadata": {},
     "output_type": "execute_result"
    }
   ],
   "source": [
    "model.fit(main_df.drop(axis=0, columns=['y']), main_df['y'].astype('int64'))"
   ]
  },
  {
   "cell_type": "markdown",
   "metadata": {},
   "source": [
    "# Проверяем на тестовых данных"
   ]
  },
  {
   "cell_type": "code",
   "execution_count": 158,
   "metadata": {},
   "outputs": [
    {
     "name": "stderr",
     "output_type": "stream",
     "text": [
      "/Users/ilyalevuskin/opt/anaconda3/lib/python3.8/site-packages/librosa/core/audio.py:162: UserWarning: PySoundFile failed. Trying audioread instead.\n",
      "  warnings.warn(\"PySoundFile failed. Trying audioread instead.\")\n",
      "/Users/ilyalevuskin/github/diplom/diplom/wavelet/Data/wavelet_transformation.py:98: VisibleDeprecationWarning: Creating an ndarray from ragged nested sequences (which is a list-or-tuple of lists-or-tuples-or ndarrays with different lengths or shapes) is deprecated. If you meant to do this, you must specify 'dtype=object' when creating the ndarray\n",
      "  return np.array(wavedec(sig, method, level=level))\n"
     ]
    }
   ],
   "source": [
    "_, test_frames_coeffs, _ = wavelet_transform.wavelet_load_data(0., 3.8, './test_data/' + 'fast_mama' + '.mp3')\n",
    "test_t_positions_between_frames = wavelet_transform.get_t_between_frames(0, test_frames_coeffs)"
   ]
  },
  {
   "cell_type": "code",
   "execution_count": 159,
   "metadata": {},
   "outputs": [],
   "source": [
    "test_data = []\n",
    "for frame in test_frames_coeffs:\n",
    "    test_data.append(list(chain(*frame)))"
   ]
  },
  {
   "cell_type": "code",
   "execution_count": 160,
   "metadata": {},
   "outputs": [],
   "source": [
    "test_data = np.array(test_data)"
   ]
  },
  {
   "cell_type": "code",
   "execution_count": 161,
   "metadata": {},
   "outputs": [],
   "source": [
    "predictions = model.predict(test_data)"
   ]
  },
  {
   "cell_type": "code",
   "execution_count": 162,
   "metadata": {},
   "outputs": [
    {
     "data": {
      "text/plain": [
       "array([0, 0, 0, 0, 0, 0, 0, 0, 0, 0, 0, 1, 0, 0, 0, 0, 0, 0, 0, 0, 0, 0,\n",
       "       0, 0, 0, 0, 0, 0, 0, 0, 0, 0, 0, 0, 0, 0, 0, 0])"
      ]
     },
     "execution_count": 162,
     "metadata": {},
     "output_type": "execute_result"
    }
   ],
   "source": [
    "predictions"
   ]
  },
  {
   "cell_type": "code",
   "execution_count": 163,
   "metadata": {},
   "outputs": [
    {
     "data": {
      "image/png": "[encoded data removed]",
      "text/plain": [
       "<Figure size 432x288 with 1 Axes>"
      ]
     },
     "metadata": {
      "needs_background": "light"
     },
     "output_type": "display_data"
    }
   ],
   "source": [
    "# мама\n",
    "fig, ax = plt.subplots(1,1)\n",
    "ax.plot(test_t_positions_between_frames, predictions)\n",
    "plt.show()"
   ]
  },
  {
   "cell_type": "code",
   "execution_count": 8,
   "metadata": {},
   "outputs": [
    {
     "name": "stderr",
     "output_type": "stream",
     "text": [
      "/Users/ilyalevuskin/opt/anaconda3/lib/python3.8/site-packages/librosa/core/audio.py:162: UserWarning: PySoundFile failed. Trying audioread instead.\n",
      "  warnings.warn(\"PySoundFile failed. Trying audioread instead.\")\n",
      "/Users/ilyalevuskin/github/diplom/diplom/wavelet/Data/wavelet_transformation.py:98: VisibleDeprecationWarning: Creating an ndarray from ragged nested sequences (which is a list-or-tuple of lists-or-tuples-or ndarrays with different lengths or shapes) is deprecated. If you meant to do this, you must specify 'dtype=object' when creating the ndarray\n",
      "  return np.array(wavedec(sig, method, level=level))\n"
     ]
    },
    {
     "name": "stdout",
     "output_type": "stream",
     "text": [
      "[0 0 0 0 0 0 0 0 0 0 0 0 0 0 0 0 0 0 0 0 0 0 0 0 0 0 0 0 0 0 0 0 0 0 0 0 0\n",
      " 0 0 0 0 0 0 0 0 0 0 0 0 0 0 0 0 0 0 0 0 0 0 0 0 0 0 0 0 0 0 0 0 0 0 0 0 0\n",
      " 0 0 0 0 0 0 0 0 0 0 0 0 0 0 0 0 0 0 0 0 0 0 0 0 0 0 0 0 0 0 0 0 0 0 0 0 0\n",
      " 0 0 0 0 0 0 0]\n"
     ]
    },
    {
     "data": {
      "image/png": "[encoded data removed]",
      "text/plain": [
       "<Figure size 432x288 with 1 Axes>"
      ]
     },
     "metadata": {
      "needs_background": "light"
     },
     "output_type": "display_data"
    }
   ],
   "source": [
    "# а о\n",
    "_, test_frames_coeffs, _ = wavelet_transform.wavelet_load_data(0., 10., './test_data/' + 'а о' + '.mp3')\n",
    "test_t_positions_between_frames = wavelet_transform.get_t_between_frames(0, test_frames_coeffs)\n",
    "test_data = []\n",
    "for frame in test_frames_coeffs:\n",
    "    test_data.append(list(chain(*frame)))\n",
    "test_data = np.array(test_data)\n",
    "predictions = model.predict(test_data)\n",
    "print(predictions)\n",
    "\n",
    "fig, ax = plt.subplots(1,1)\n",
    "ax.plot(test_t_positions_between_frames, predictions)\n",
    "plt.show()"
   ]
  },
  {
   "cell_type": "code",
   "execution_count": 98,
   "metadata": {},
   "outputs": [
    {
     "name": "stderr",
     "output_type": "stream",
     "text": [
      "/Users/ilyalevuskin/opt/anaconda3/lib/python3.8/site-packages/librosa/core/audio.py:162: UserWarning: PySoundFile failed. Trying audioread instead.\n",
      "  warnings.warn(\"PySoundFile failed. Trying audioread instead.\")\n",
      "/Users/ilyalevuskin/github/diplom/diplom/wavelet/Data/wavelet_transformation.py:98: VisibleDeprecationWarning: Creating an ndarray from ragged nested sequences (which is a list-or-tuple of lists-or-tuples-or ndarrays with different lengths or shapes) is deprecated. If you meant to do this, you must specify 'dtype=object' when creating the ndarray\n",
      "  return np.array(wavedec(sig, method, level=level))\n"
     ]
    },
    {
     "name": "stdout",
     "output_type": "stream",
     "text": [
      "[0 0 0 0 0 0 0 0 0 0 0 0 0 0 0 0 0 0 0 0 0 0 0 0 0 0 0 0 0 0 0 0 0 0 0 0 0\n",
      " 0 0 0 0 0 0 0 0 0 0 0 0 0 0 0 0 0 0 0 0 0 0 0 0 0 0 0 0 0 0 0 0 0 0 0 0 0\n",
      " 0 0 0 0 0 0 0 0 0 0 0 0 0 0 0 0 0 0 0 0 0 0 0 0]\n"
     ]
    },
    {
     "data": {
      "image/png": "[encoded data removed]",
      "text/plain": [
       "<Figure size 432x288 with 1 Axes>"
      ]
     },
     "metadata": {
      "needs_background": "light"
     },
     "output_type": "display_data"
    }
   ],
   "source": [
    "# ао\n",
    "_, test_frames_coeffs, _ = wavelet_transform.wavelet_load_data(0., 10., './test_data/' + 'ао' + '.mp3')\n",
    "test_t_positions_between_frames = wavelet_transform.get_t_between_frames(0, test_frames_coeffs)\n",
    "test_data = []\n",
    "for frame in test_frames_coeffs:\n",
    "    test_data.append(list(chain(*frame)))\n",
    "test_data = np.array(test_data)\n",
    "predictions = model.predict(test_data)\n",
    "print(predictions)\n",
    "\n",
    "fig, ax = plt.subplots(1,1)\n",
    "ax.plot(test_t_positions_between_frames, predictions)\n",
    "plt.show()"
   ]
  },
  {
   "cell_type": "code",
   "execution_count": 97,
   "metadata": {},
   "outputs": [
    {
     "name": "stderr",
     "output_type": "stream",
     "text": [
      "/Users/ilyalevuskin/opt/anaconda3/lib/python3.8/site-packages/librosa/core/audio.py:162: UserWarning: PySoundFile failed. Trying audioread instead.\n",
      "  warnings.warn(\"PySoundFile failed. Trying audioread instead.\")\n",
      "/Users/ilyalevuskin/github/diplom/diplom/wavelet/Data/wavelet_transformation.py:98: VisibleDeprecationWarning: Creating an ndarray from ragged nested sequences (which is a list-or-tuple of lists-or-tuples-or ndarrays with different lengths or shapes) is deprecated. If you meant to do this, you must specify 'dtype=object' when creating the ndarray\n",
      "  return np.array(wavedec(sig, method, level=level))\n"
     ]
    },
    {
     "name": "stdout",
     "output_type": "stream",
     "text": [
      "[0 0 0 0 0 0 0 0 0 0 0 0 0 0 0 0 0 0 0 0 0 0 0 0 0 0 0 0 0 0 0 0 0 0 0 0 0\n",
      " 0 0 0 0 0 0 0 0 0 0 0 0 0 0 0 0 0 0 0 0 0 0 0 0 0 0 0 0 0 0 0 0 0 0 0 0 0\n",
      " 0 0 0 0 0 0 0 0 0 0 0 0 0 0 0 0 0 0 0 0 0 0 0 0 0 0 0 0 0 0 0 0 0 0 0 0 0\n",
      " 0 0 0 0 0 0 0 0 0 0 0 0 0 0 0 0 0 0 0 0 0 0 0 0 0 0 0 0 0 0 0 0 0 0 0 0 0\n",
      " 0 0 0 0 0 0 0 0 0 0 0 0 0 0 0 0 0 0 0 0 0 0 0 0 0 0 0 0 0 0 0 0 0 0 0 0 0\n",
      " 0 0 0 0 0 0 0 0 0 0 0 0 0 0 0 0 0 0]\n"
     ]
    },
    {
     "data": {
      "image/png": "[encoded data removed]",
      "text/plain": [
       "<Figure size 432x288 with 1 Axes>"
      ]
     },
     "metadata": {
      "needs_background": "light"
     },
     "output_type": "display_data"
    }
   ],
   "source": [
    "# slow mama\n",
    "_, test_frames_coeffs, _ = wavelet_transform.wavelet_load_data(0., 13., './test_data/' + 'mama' + '.mp3')\n",
    "test_t_positions_between_frames = wavelet_transform.get_t_between_frames(0, test_frames_coeffs)\n",
    "test_data = []\n",
    "for frame in test_frames_coeffs:\n",
    "    test_data.append(list(chain(*frame)))\n",
    "test_data = np.array(test_data)\n",
    "predictions = model.predict(test_data)\n",
    "print(predictions)\n",
    "\n",
    "fig, ax = plt.subplots(1,1)\n",
    "ax.plot(test_t_positions_between_frames, predictions)\n",
    "plt.show()"
   ]
  },
  {
   "cell_type": "code",
   "execution_count": 165,
   "metadata": {},
   "outputs": [
    {
     "ename": "NameError",
     "evalue": "name 'null' is not defined",
     "output_type": "error",
     "traceback": [
      "\u001b[0;31m---------------------------------------------------------------------------\u001b[0m",
      "\u001b[0;31mNameError\u001b[0m                                 Traceback (most recent call last)",
      "\u001b[0;32m<ipython-input-165-13abd1a5008e>\u001b[0m in \u001b[0;36m<module>\u001b[0;34m\u001b[0m\n\u001b[0;32m----> 1\u001b[0;31m \u001b[0mnull\u001b[0m \u001b[0;34m==\u001b[0m \u001b[0;32mFalse\u001b[0m\u001b[0;34m\u001b[0m\u001b[0;34m\u001b[0m\u001b[0m\n\u001b[0m",
      "\u001b[0;31mNameError\u001b[0m: name 'null' is not defined"
     ]
    }
   ],
   "source": [
    "null == False"
   ]
  },
  {
   "cell_type": "code",
   "execution_count": 286,
   "metadata": {},
   "outputs": [],
   "source": [
    "df_test = pd.read_csv('markups.csv')"
   ]
  },
  {
   "cell_type": "code",
   "execution_count": 287,
   "metadata": {},
   "outputs": [
    {
     "data": {
      "text/html": [
       "<div>\n",
       "<style scoped>\n",
       "    .dataframe tbody tr th:only-of-type {\n",
       "        vertical-align: middle;\n",
       "    }\n",
       "\n",
       "    .dataframe tbody tr th {\n",
       "        vertical-align: top;\n",
       "    }\n",
       "\n",
       "    .dataframe thead th {\n",
       "        text-align: right;\n",
       "    }\n",
       "</style>\n",
       "<table border=\"1\" class=\"dataframe\">\n",
       "  <thead>\n",
       "    <tr style=\"text-align: right;\">\n",
       "      <th></th>\n",
       "      <th>Unnamed: 0</th>\n",
       "      <th>recordname</th>\n",
       "      <th>start</th>\n",
       "      <th>end</th>\n",
       "      <th>intervals</th>\n",
       "    </tr>\n",
       "  </thead>\n",
       "  <tbody>\n",
       "    <tr>\n",
       "      <th>0</th>\n",
       "      <td>0</td>\n",
       "      <td>10 БАСЛИНА.mp3</td>\n",
       "      <td>360.949</td>\n",
       "      <td>361.039</td>\n",
       "      <td>[[360.0, 423.0]]</td>\n",
       "    </tr>\n",
       "    <tr>\n",
       "      <th>1</th>\n",
       "      <td>1</td>\n",
       "      <td>10 БАСЛИНА.mp3</td>\n",
       "      <td>360.949</td>\n",
       "      <td>361.039</td>\n",
       "      <td>[[360.0, 423.0]]</td>\n",
       "    </tr>\n",
       "    <tr>\n",
       "      <th>2</th>\n",
       "      <td>2</td>\n",
       "      <td>10 БАСЛИНА.mp3</td>\n",
       "      <td>361.077</td>\n",
       "      <td>361.313</td>\n",
       "      <td>[[360.0, 423.0]]</td>\n",
       "    </tr>\n",
       "    <tr>\n",
       "      <th>3</th>\n",
       "      <td>3</td>\n",
       "      <td>10 БАСЛИНА.mp3</td>\n",
       "      <td>361.555</td>\n",
       "      <td>361.578</td>\n",
       "      <td>[[360.0, 423.0]]</td>\n",
       "    </tr>\n",
       "    <tr>\n",
       "      <th>4</th>\n",
       "      <td>4</td>\n",
       "      <td>10 БАСЛИНА.mp3</td>\n",
       "      <td>361.604</td>\n",
       "      <td>361.630</td>\n",
       "      <td>[[360.0, 423.0]]</td>\n",
       "    </tr>\n",
       "  </tbody>\n",
       "</table>\n",
       "</div>"
      ],
      "text/plain": [
       "   Unnamed: 0      recordname    start      end         intervals\n",
       "0           0  10 БАСЛИНА.mp3  360.949  361.039  [[360.0, 423.0]]\n",
       "1           1  10 БАСЛИНА.mp3  360.949  361.039  [[360.0, 423.0]]\n",
       "2           2  10 БАСЛИНА.mp3  361.077  361.313  [[360.0, 423.0]]\n",
       "3           3  10 БАСЛИНА.mp3  361.555  361.578  [[360.0, 423.0]]\n",
       "4           4  10 БАСЛИНА.mp3  361.604  361.630  [[360.0, 423.0]]"
      ]
     },
     "execution_count": 287,
     "metadata": {},
     "output_type": "execute_result"
    }
   ],
   "source": [
    "df_test.head()"
   ]
  },
  {
   "cell_type": "code",
   "execution_count": 289,
   "metadata": {},
   "outputs": [
    {
     "data": {
      "text/plain": [
       "[360.0, 423.0]"
      ]
     },
     "execution_count": 289,
     "metadata": {},
     "output_type": "execute_result"
    }
   ],
   "source": [
    "ast.literal_eval(df_test[df_test.recordname == '10 БАСЛИНА.mp3'].intervals[0])[0]"
   ]
  },
  {
   "cell_type": "code",
   "execution_count": 283,
   "metadata": {},
   "outputs": [],
   "source": [
    "import ast"
   ]
  },
  {
   "cell_type": "code",
   "execution_count": 285,
   "metadata": {},
   "outputs": [
    {
     "name": "stdout",
     "output_type": "stream",
     "text": [
      "a b\n"
     ]
    }
   ],
   "source": [
    "d = {'a': 'b'}\n",
    "for a, b in d.items():\n",
    "    print(a, b)"
   ]
  },
  {
   "cell_type": "code",
   "execution_count": 293,
   "metadata": {},
   "outputs": [
    {
     "data": {
      "text/html": [
       "<div>\n",
       "<style scoped>\n",
       "    .dataframe tbody tr th:only-of-type {\n",
       "        vertical-align: middle;\n",
       "    }\n",
       "\n",
       "    .dataframe tbody tr th {\n",
       "        vertical-align: top;\n",
       "    }\n",
       "\n",
       "    .dataframe thead th {\n",
       "        text-align: right;\n",
       "    }\n",
       "</style>\n",
       "<table border=\"1\" class=\"dataframe\">\n",
       "  <thead>\n",
       "    <tr style=\"text-align: right;\">\n",
       "      <th></th>\n",
       "      <th>Unnamed: 0</th>\n",
       "      <th>recordname</th>\n",
       "      <th>start</th>\n",
       "      <th>end</th>\n",
       "      <th>intervals</th>\n",
       "    </tr>\n",
       "  </thead>\n",
       "  <tbody>\n",
       "    <tr>\n",
       "      <th>0</th>\n",
       "      <td>0</td>\n",
       "      <td>10 БАСЛИНА.mp3</td>\n",
       "      <td>360.949</td>\n",
       "      <td>361.039</td>\n",
       "      <td>[[360.0, 423.0]]</td>\n",
       "    </tr>\n",
       "    <tr>\n",
       "      <th>1</th>\n",
       "      <td>1</td>\n",
       "      <td>10 БАСЛИНА.mp3</td>\n",
       "      <td>360.949</td>\n",
       "      <td>361.039</td>\n",
       "      <td>[[360.0, 423.0]]</td>\n",
       "    </tr>\n",
       "    <tr>\n",
       "      <th>2</th>\n",
       "      <td>2</td>\n",
       "      <td>10 БАСЛИНА.mp3</td>\n",
       "      <td>361.077</td>\n",
       "      <td>361.313</td>\n",
       "      <td>[[360.0, 423.0]]</td>\n",
       "    </tr>\n",
       "    <tr>\n",
       "      <th>3</th>\n",
       "      <td>3</td>\n",
       "      <td>10 БАСЛИНА.mp3</td>\n",
       "      <td>361.555</td>\n",
       "      <td>361.578</td>\n",
       "      <td>[[360.0, 423.0]]</td>\n",
       "    </tr>\n",
       "    <tr>\n",
       "      <th>4</th>\n",
       "      <td>4</td>\n",
       "      <td>10 БАСЛИНА.mp3</td>\n",
       "      <td>361.604</td>\n",
       "      <td>361.630</td>\n",
       "      <td>[[360.0, 423.0]]</td>\n",
       "    </tr>\n",
       "    <tr>\n",
       "      <th>...</th>\n",
       "      <td>...</td>\n",
       "      <td>...</td>\n",
       "      <td>...</td>\n",
       "      <td>...</td>\n",
       "      <td>...</td>\n",
       "    </tr>\n",
       "    <tr>\n",
       "      <th>514</th>\n",
       "      <td>514</td>\n",
       "      <td>10 БАСЛИНА.mp3</td>\n",
       "      <td>422.456</td>\n",
       "      <td>422.512</td>\n",
       "      <td>[[360.0, 423.0]]</td>\n",
       "    </tr>\n",
       "    <tr>\n",
       "      <th>515</th>\n",
       "      <td>515</td>\n",
       "      <td>10 БАСЛИНА.mp3</td>\n",
       "      <td>422.593</td>\n",
       "      <td>422.666</td>\n",
       "      <td>[[360.0, 423.0]]</td>\n",
       "    </tr>\n",
       "    <tr>\n",
       "      <th>516</th>\n",
       "      <td>516</td>\n",
       "      <td>10 БАСЛИНА.mp3</td>\n",
       "      <td>422.735</td>\n",
       "      <td>422.823</td>\n",
       "      <td>[[360.0, 423.0]]</td>\n",
       "    </tr>\n",
       "    <tr>\n",
       "      <th>517</th>\n",
       "      <td>517</td>\n",
       "      <td>10 БАСЛИНА.mp3</td>\n",
       "      <td>422.818</td>\n",
       "      <td>422.863</td>\n",
       "      <td>[[360.0, 423.0]]</td>\n",
       "    </tr>\n",
       "    <tr>\n",
       "      <th>518</th>\n",
       "      <td>518</td>\n",
       "      <td>10 БАСЛИНА.mp3</td>\n",
       "      <td>422.889</td>\n",
       "      <td>422.962</td>\n",
       "      <td>[[360.0, 423.0]]</td>\n",
       "    </tr>\n",
       "  </tbody>\n",
       "</table>\n",
       "<p>519 rows × 5 columns</p>\n",
       "</div>"
      ],
      "text/plain": [
       "     Unnamed: 0      recordname    start      end         intervals\n",
       "0             0  10 БАСЛИНА.mp3  360.949  361.039  [[360.0, 423.0]]\n",
       "1             1  10 БАСЛИНА.mp3  360.949  361.039  [[360.0, 423.0]]\n",
       "2             2  10 БАСЛИНА.mp3  361.077  361.313  [[360.0, 423.0]]\n",
       "3             3  10 БАСЛИНА.mp3  361.555  361.578  [[360.0, 423.0]]\n",
       "4             4  10 БАСЛИНА.mp3  361.604  361.630  [[360.0, 423.0]]\n",
       "..          ...             ...      ...      ...               ...\n",
       "514         514  10 БАСЛИНА.mp3  422.456  422.512  [[360.0, 423.0]]\n",
       "515         515  10 БАСЛИНА.mp3  422.593  422.666  [[360.0, 423.0]]\n",
       "516         516  10 БАСЛИНА.mp3  422.735  422.823  [[360.0, 423.0]]\n",
       "517         517  10 БАСЛИНА.mp3  422.818  422.863  [[360.0, 423.0]]\n",
       "518         518  10 БАСЛИНА.mp3  422.889  422.962  [[360.0, 423.0]]\n",
       "\n",
       "[519 rows x 5 columns]"
      ]
     },
     "execution_count": 293,
     "metadata": {},
     "output_type": "execute_result"
    }
   ],
   "source": [
    "df_test[df_test.loc[:,'recordname'] == '10 БАСЛИНА.mp3']"
   ]
  },
  {
   "cell_type": "code",
   "execution_count": 294,
   "metadata": {},
   "outputs": [
    {
     "name": "stdout",
     "output_type": "stream",
     "text": [
      "1 2\n",
      "3 4\n"
     ]
    }
   ],
   "source": [
    "lst1 = [[1,2],[3,4]]\n",
    "for a, b in lst1:\n",
    "    print(a,b)"
   ]
  },
  {
   "cell_type": "code",
   "execution_count": 169,
   "metadata": {},
   "outputs": [],
   "source": [
    "import pickle"
   ]
  },
  {
   "cell_type": "code",
   "execution_count": 170,
   "metadata": {},
   "outputs": [],
   "source": [
    "\n",
    "with open('features_sq_rbf_no_balanced_2500_C_10_5_delete.pkl', 'wb') as file:\n",
    "    pickle.dump(model, file)"
   ]
  },
  {
   "cell_type": "markdown",
   "metadata": {},
   "source": [
    "# Исследование модели"
   ]
  },
  {
   "cell_type": "code",
   "execution_count": 94,
   "metadata": {},
   "outputs": [],
   "source": [
    "model = ''\n",
    "with open('broken_linear.pkl', 'rb') as file:\n",
    "    model = pickle.load(file)"
   ]
  },
  {
   "cell_type": "code",
   "execution_count": 166,
   "metadata": {},
   "outputs": [],
   "source": [
    "main_df = main_df.sample(frac=1)"
   ]
  },
  {
   "cell_type": "code",
   "execution_count": 167,
   "metadata": {},
   "outputs": [],
   "source": [
    "from sklearn.svm import SVC\n",
    "model = SVC(kernel='rbf', C=1e5)"
   ]
  },
  {
   "cell_type": "code",
   "execution_count": 165,
   "metadata": {},
   "outputs": [],
   "source": [
    "from sklearn.model_selection import train_test_split"
   ]
  },
  {
   "cell_type": "code",
   "execution_count": 160,
   "metadata": {},
   "outputs": [],
   "source": [
    "X_train, X_test, y_train, y_test = train_test_split(main_df.drop(axis=0, columns=['y']), main_df['y'], test_size=0.2)"
   ]
  },
  {
   "cell_type": "code",
   "execution_count": 168,
   "metadata": {},
   "outputs": [
    {
     "data": {
      "text/plain": [
       "SVC(C=100000.0)"
      ]
     },
     "execution_count": 168,
     "metadata": {},
     "output_type": "execute_result"
    }
   ],
   "source": [
    "model.fit(main_df.drop(axis=0, columns=['y']), main_df['y'])"
   ]
  },
  {
   "cell_type": "code",
   "execution_count": 146,
   "metadata": {},
   "outputs": [],
   "source": [
    "from sklearn.metrics import roc_curve\n",
    "import seaborn as sns"
   ]
  },
  {
   "cell_type": "code",
   "execution_count": 147,
   "metadata": {},
   "outputs": [
    {
     "data": {
      "text/plain": [
       "0.6707518470230334"
      ]
     },
     "execution_count": 147,
     "metadata": {},
     "output_type": "execute_result"
    }
   ],
   "source": [
    "from sklearn.metrics import auc\n",
    "# auc площадь\n",
    "fpr, tpr, thresholds = roc_curve(y_test, model.predict_proba(X_test)[:,1], pos_label=1)\n",
    "auc(fpr, tpr)"
   ]
  },
  {
   "cell_type": "code",
   "execution_count": 765,
   "metadata": {},
   "outputs": [
    {
     "data": {
      "image/png": "[encoded data removed]",
      "text/plain": [
       "<Figure size 720x576 with 1 Axes>"
      ]
     },
     "metadata": {},
     "output_type": "display_data"
    }
   ],
   "source": [
    "sns.set(font_scale=1.5)\n",
    "sns.set_color_codes(\"muted\")\n",
    "plt.figure(figsize=(10, 8))\n",
    "plt.plot([4,6,8,10,12,14,16],[0.2855,0.3140,0.2740,0.2991,0.3018,0.2098,0.2413])\n",
    "plt.xlabel('Уровень декомпозиции сигнала k')\n",
    "plt.ylabel('Коэффициент Корреляции Мэтьюса ККМ')\n",
    "plt.savefig(\"KKM(k).png\")\n",
    "plt.show()"
   ]
  },
  {
   "cell_type": "code",
   "execution_count": 254,
   "metadata": {},
   "outputs": [
    {
     "data": {
      "image/png": "[encoded data removed]",
      "text/plain": [
       "<Figure size 720x576 with 1 Axes>"
      ]
     },
     "metadata": {},
     "output_type": "display_data"
    }
   ],
   "source": [
    "sns.set(font_scale=1.5)\n",
    "sns.set_color_codes(\"muted\")\n",
    "plt.figure(figsize=(10, 8))\n",
    "plt.plot([1250,2000,2500,2750,3000,3250],[0.6838,0.6979,0.7325,0.6992,0.7050,0.7050], label='AUC(n_frame)')\n",
    "plt.xlabel('Размер фрейма')\n",
    "plt.ylabel('AUC-площадь ROC-кривой')\n",
    "plt.title('График зависимости AUC-площади ROC-кривой от размера фрейма')\n",
    "plt.savefig(\"AUC(n_frame).png\")\n",
    "plt.show()"
   ]
  },
  {
   "cell_type": "code",
   "execution_count": 257,
   "metadata": {},
   "outputs": [
    {
     "data": {
      "image/png": "[encoded data removed]",
      "text/plain": [
       "<Figure size 720x576 with 1 Axes>"
      ]
     },
     "metadata": {},
     "output_type": "display_data"
    }
   ],
   "source": [
    "sns.set(font_scale=1.5)\n",
    "sns.set_color_codes(\"muted\")\n",
    "\n",
    "plt.figure(figsize=(10, 8))\n",
    "lw = 2\n",
    "plt.plot(fpr, tpr, lw=lw, label='ROC curve ')\n",
    "plt.plot([0, 1], [0, 1])\n",
    "plt.xlim([0.0, 1.0])\n",
    "plt.ylim([0.0, 1.05])\n",
    "plt.xlabel('Доля ложно положительных объектов (FPR)')\n",
    "plt.ylabel('Доля истинно положительных объектов (TPR)')\n",
    "plt.title('ROC-кривая')\n",
    "plt.savefig(\"roc_curve.png\")\n",
    "plt.show()"
   ]
  },
  {
   "cell_type": "code",
   "execution_count": 148,
   "metadata": {},
   "outputs": [],
   "source": [
    "predictions = model.predict(X_test)"
   ]
  },
  {
   "cell_type": "code",
   "execution_count": 149,
   "metadata": {},
   "outputs": [],
   "source": [
    "from sklearn.metrics import classification_report"
   ]
  },
  {
   "cell_type": "code",
   "execution_count": 150,
   "metadata": {},
   "outputs": [],
   "source": [
    "report = classification_report(y_test, predictions)"
   ]
  },
  {
   "cell_type": "code",
   "execution_count": 151,
   "metadata": {},
   "outputs": [
    {
     "name": "stdout",
     "output_type": "stream",
     "text": [
      "              precision    recall  f1-score   support\n",
      "\n",
      "           0       0.39      0.84      0.53       295\n",
      "           1       0.76      0.28      0.41       546\n",
      "\n",
      "    accuracy                           0.48       841\n",
      "   macro avg       0.57      0.56      0.47       841\n",
      "weighted avg       0.63      0.48      0.45       841\n",
      "\n"
     ]
    }
   ],
   "source": [
    "print(report)"
   ]
  },
  {
   "cell_type": "code",
   "execution_count": 152,
   "metadata": {},
   "outputs": [],
   "source": [
    "from sklearn.metrics import matthews_corrcoef"
   ]
  },
  {
   "cell_type": "code",
   "execution_count": 153,
   "metadata": {},
   "outputs": [
    {
     "data": {
      "text/plain": [
       "0.13148809612713797"
      ]
     },
     "execution_count": 153,
     "metadata": {},
     "output_type": "execute_result"
    }
   ],
   "source": [
    "matthews_corrcoef(y_test, predictions)"
   ]
  },
  {
   "cell_type": "code",
   "execution_count": 175,
   "metadata": {},
   "outputs": [
    {
     "data": {
      "text/plain": [
       "(4538, 8923)"
      ]
     },
     "execution_count": 175,
     "metadata": {},
     "output_type": "execute_result"
    }
   ],
   "source": [
    "y_test.sum()+y_train.sum(), y_test.shape[0] + y_train.shape[0]"
   ]
  },
  {
   "cell_type": "markdown",
   "metadata": {},
   "source": [
    "# Использование GridSearch для подбора оптимальных параметров"
   ]
  },
  {
   "cell_type": "code",
   "execution_count": 428,
   "metadata": {},
   "outputs": [],
   "source": [
    "from sklearn.model_selection import GridSearchCV"
   ]
  },
  {
   "cell_type": "code",
   "execution_count": 429,
   "metadata": {},
   "outputs": [],
   "source": [
    "model = SVC(kernel='rbf', C=1e5)"
   ]
  },
  {
   "cell_type": "code",
   "execution_count": 430,
   "metadata": {},
   "outputs": [],
   "source": [
    "parameters = {'class_weight':[None, 'balanced'],\n",
    "             'C': [10, 1e2, 1e3, 7*1e3, 8*1e3, 9*1e3, 1e4, 2*1e4, 3*1e4, 4*1e4, 1e5, 1e6]}"
   ]
  },
  {
   "cell_type": "code",
   "execution_count": 431,
   "metadata": {},
   "outputs": [],
   "source": [
    "from sklearn.metrics import make_scorer"
   ]
  },
  {
   "cell_type": "code",
   "execution_count": 432,
   "metadata": {},
   "outputs": [],
   "source": [
    "def matthews_corrcoef_func(y_true, y_pred):\n",
    "    return matthews_corrcoef(y_true, y_pred)\n",
    "\n",
    "ms_cf = make_scorer(matthews_corrcoef_func, greater_is_better=True)"
   ]
  },
  {
   "cell_type": "code",
   "execution_count": 433,
   "metadata": {},
   "outputs": [],
   "source": [
    "clf = GridSearchCV(model, parameters, scoring=ms_cf, verbose = 4)"
   ]
  },
  {
   "cell_type": "code",
   "execution_count": 434,
   "metadata": {},
   "outputs": [
    {
     "name": "stdout",
     "output_type": "stream",
     "text": [
      "Fitting 5 folds for each of 24 candidates, totalling 120 fits\n",
      "[CV] C=10, class_weight=None .........................................\n"
     ]
    },
    {
     "name": "stderr",
     "output_type": "stream",
     "text": [
      "[Parallel(n_jobs=1)]: Using backend SequentialBackend with 1 concurrent workers.\n"
     ]
    },
    {
     "name": "stdout",
     "output_type": "stream",
     "text": [
      "[CV] ............. C=10, class_weight=None, score=0.310, total=   0.7s\n",
      "[CV] C=10, class_weight=None .........................................\n"
     ]
    },
    {
     "name": "stderr",
     "output_type": "stream",
     "text": [
      "[Parallel(n_jobs=1)]: Done   1 out of   1 | elapsed:    0.7s remaining:    0.0s\n"
     ]
    },
    {
     "name": "stdout",
     "output_type": "stream",
     "text": [
      "[CV] ............. C=10, class_weight=None, score=0.320, total=   0.7s\n",
      "[CV] C=10, class_weight=None .........................................\n"
     ]
    },
    {
     "name": "stderr",
     "output_type": "stream",
     "text": [
      "[Parallel(n_jobs=1)]: Done   2 out of   2 | elapsed:    1.4s remaining:    0.0s\n"
     ]
    },
    {
     "name": "stdout",
     "output_type": "stream",
     "text": [
      "[CV] ............. C=10, class_weight=None, score=0.239, total=   0.7s\n",
      "[CV] C=10, class_weight=None .........................................\n"
     ]
    },
    {
     "name": "stderr",
     "output_type": "stream",
     "text": [
      "[Parallel(n_jobs=1)]: Done   3 out of   3 | elapsed:    2.2s remaining:    0.0s\n"
     ]
    },
    {
     "name": "stdout",
     "output_type": "stream",
     "text": [
      "[CV] ............. C=10, class_weight=None, score=0.262, total=   0.8s\n",
      "[CV] C=10, class_weight=None .........................................\n",
      "[CV] ............. C=10, class_weight=None, score=0.321, total=   0.8s\n",
      "[CV] C=10, class_weight=balanced .....................................\n",
      "[CV] ......... C=10, class_weight=balanced, score=0.300, total=   0.9s\n",
      "[CV] C=10, class_weight=balanced .....................................\n",
      "[CV] ......... C=10, class_weight=balanced, score=0.298, total=   0.8s\n",
      "[CV] C=10, class_weight=balanced .....................................\n",
      "[CV] ......... C=10, class_weight=balanced, score=0.219, total=   0.7s\n",
      "[CV] C=10, class_weight=balanced .....................................\n",
      "[CV] ......... C=10, class_weight=balanced, score=0.247, total=   0.7s\n",
      "[CV] C=10, class_weight=balanced .....................................\n",
      "[CV] ......... C=10, class_weight=balanced, score=0.308, total=   0.8s\n",
      "[CV] C=100.0, class_weight=None ......................................\n",
      "[CV] .......... C=100.0, class_weight=None, score=0.322, total=   0.9s\n",
      "[CV] C=100.0, class_weight=None ......................................\n",
      "[CV] .......... C=100.0, class_weight=None, score=0.352, total=   0.9s\n",
      "[CV] C=100.0, class_weight=None ......................................\n",
      "[CV] .......... C=100.0, class_weight=None, score=0.245, total=   0.8s\n",
      "[CV] C=100.0, class_weight=None ......................................\n",
      "[CV] .......... C=100.0, class_weight=None, score=0.260, total=   1.0s\n",
      "[CV] C=100.0, class_weight=None ......................................\n",
      "[CV] .......... C=100.0, class_weight=None, score=0.333, total=   1.0s\n",
      "[CV] C=100.0, class_weight=balanced ..................................\n",
      "[CV] ...... C=100.0, class_weight=balanced, score=0.318, total=   1.0s\n",
      "[CV] C=100.0, class_weight=balanced ..................................\n",
      "[CV] ...... C=100.0, class_weight=balanced, score=0.323, total=   0.9s\n",
      "[CV] C=100.0, class_weight=balanced ..................................\n",
      "[CV] ...... C=100.0, class_weight=balanced, score=0.224, total=   0.9s\n",
      "[CV] C=100.0, class_weight=balanced ..................................\n",
      "[CV] ...... C=100.0, class_weight=balanced, score=0.251, total=   1.0s\n",
      "[CV] C=100.0, class_weight=balanced ..................................\n",
      "[CV] ...... C=100.0, class_weight=balanced, score=0.348, total=   1.0s\n",
      "[CV] C=1000.0, class_weight=None .....................................\n",
      "[CV] ......... C=1000.0, class_weight=None, score=0.343, total=   1.5s\n",
      "[CV] C=1000.0, class_weight=None .....................................\n",
      "[CV] ......... C=1000.0, class_weight=None, score=0.336, total=   1.5s\n",
      "[CV] C=1000.0, class_weight=None .....................................\n",
      "[CV] ......... C=1000.0, class_weight=None, score=0.253, total=   1.3s\n",
      "[CV] C=1000.0, class_weight=None .....................................\n",
      "[CV] ......... C=1000.0, class_weight=None, score=0.286, total=   1.6s\n",
      "[CV] C=1000.0, class_weight=None .....................................\n",
      "[CV] ......... C=1000.0, class_weight=None, score=0.345, total=   1.6s\n",
      "[CV] C=1000.0, class_weight=balanced .................................\n",
      "[CV] ..... C=1000.0, class_weight=balanced, score=0.341, total=   1.4s\n",
      "[CV] C=1000.0, class_weight=balanced .................................\n",
      "[CV] ..... C=1000.0, class_weight=balanced, score=0.338, total=   1.9s\n",
      "[CV] C=1000.0, class_weight=balanced .................................\n",
      "[CV] ..... C=1000.0, class_weight=balanced, score=0.246, total=   1.4s\n",
      "[CV] C=1000.0, class_weight=balanced .................................\n",
      "[CV] ..... C=1000.0, class_weight=balanced, score=0.272, total=   1.5s\n",
      "[CV] C=1000.0, class_weight=balanced .................................\n",
      "[CV] ..... C=1000.0, class_weight=balanced, score=0.335, total=   1.2s\n",
      "[CV] C=7000.0, class_weight=None .....................................\n",
      "[CV] ......... C=7000.0, class_weight=None, score=0.354, total=   4.1s\n",
      "[CV] C=7000.0, class_weight=None .....................................\n",
      "[CV] ......... C=7000.0, class_weight=None, score=0.328, total=   4.1s\n",
      "[CV] C=7000.0, class_weight=None .....................................\n",
      "[CV] ......... C=7000.0, class_weight=None, score=0.252, total=   3.0s\n",
      "[CV] C=7000.0, class_weight=None .....................................\n",
      "[CV] ......... C=7000.0, class_weight=None, score=0.302, total=   2.3s\n",
      "[CV] C=7000.0, class_weight=None .....................................\n",
      "[CV] ......... C=7000.0, class_weight=None, score=0.353, total=   2.9s\n",
      "[CV] C=7000.0, class_weight=balanced .................................\n",
      "[CV] ..... C=7000.0, class_weight=balanced, score=0.348, total=   4.0s\n",
      "[CV] C=7000.0, class_weight=balanced .................................\n",
      "[CV] ..... C=7000.0, class_weight=balanced, score=0.338, total=   3.2s\n",
      "[CV] C=7000.0, class_weight=balanced .................................\n",
      "[CV] ..... C=7000.0, class_weight=balanced, score=0.251, total=   2.9s\n",
      "[CV] C=7000.0, class_weight=balanced .................................\n",
      "[CV] ..... C=7000.0, class_weight=balanced, score=0.301, total=   3.7s\n",
      "[CV] C=7000.0, class_weight=balanced .................................\n",
      "[CV] ..... C=7000.0, class_weight=balanced, score=0.353, total=   3.3s\n",
      "[CV] C=8000.0, class_weight=None .....................................\n",
      "[CV] ......... C=8000.0, class_weight=None, score=0.353, total=   3.0s\n",
      "[CV] C=8000.0, class_weight=None .....................................\n",
      "[CV] ......... C=8000.0, class_weight=None, score=0.331, total=   3.9s\n",
      "[CV] C=8000.0, class_weight=None .....................................\n",
      "[CV] ......... C=8000.0, class_weight=None, score=0.247, total=   3.2s\n",
      "[CV] C=8000.0, class_weight=None .....................................\n",
      "[CV] ......... C=8000.0, class_weight=None, score=0.300, total=   3.7s\n",
      "[CV] C=8000.0, class_weight=None .....................................\n",
      "[CV] ......... C=8000.0, class_weight=None, score=0.350, total=   3.7s\n",
      "[CV] C=8000.0, class_weight=balanced .................................\n",
      "[CV] ..... C=8000.0, class_weight=balanced, score=0.347, total=   4.3s\n",
      "[CV] C=8000.0, class_weight=balanced .................................\n",
      "[CV] ..... C=8000.0, class_weight=balanced, score=0.331, total=   3.9s\n",
      "[CV] C=8000.0, class_weight=balanced .................................\n",
      "[CV] ..... C=8000.0, class_weight=balanced, score=0.251, total=   3.4s\n",
      "[CV] C=8000.0, class_weight=balanced .................................\n",
      "[CV] ..... C=8000.0, class_weight=balanced, score=0.296, total=   3.9s\n",
      "[CV] C=8000.0, class_weight=balanced .................................\n",
      "[CV] ..... C=8000.0, class_weight=balanced, score=0.347, total=   3.2s\n",
      "[CV] C=9000.0, class_weight=None .....................................\n",
      "[CV] ......... C=9000.0, class_weight=None, score=0.350, total=   3.2s\n",
      "[CV] C=9000.0, class_weight=None .....................................\n",
      "[CV] ......... C=9000.0, class_weight=None, score=0.339, total=   3.9s\n",
      "[CV] C=9000.0, class_weight=None .....................................\n",
      "[CV] ......... C=9000.0, class_weight=None, score=0.255, total=   3.5s\n",
      "[CV] C=9000.0, class_weight=None .....................................\n",
      "[CV] ......... C=9000.0, class_weight=None, score=0.292, total=   3.4s\n",
      "[CV] C=9000.0, class_weight=None .....................................\n",
      "[CV] ......... C=9000.0, class_weight=None, score=0.353, total=   4.3s\n",
      "[CV] C=9000.0, class_weight=balanced .................................\n",
      "[CV] ..... C=9000.0, class_weight=balanced, score=0.346, total=   3.6s\n",
      "[CV] C=9000.0, class_weight=balanced .................................\n",
      "[CV] ..... C=9000.0, class_weight=balanced, score=0.333, total=   3.8s\n",
      "[CV] C=9000.0, class_weight=balanced .................................\n",
      "[CV] ..... C=9000.0, class_weight=balanced, score=0.256, total=   3.4s\n",
      "[CV] C=9000.0, class_weight=balanced .................................\n",
      "[CV] ..... C=9000.0, class_weight=balanced, score=0.298, total=   3.9s\n",
      "[CV] C=9000.0, class_weight=balanced .................................\n",
      "[CV] ..... C=9000.0, class_weight=balanced, score=0.351, total=   3.2s\n",
      "[CV] C=10000.0, class_weight=None ....................................\n",
      "[CV] ........ C=10000.0, class_weight=None, score=0.346, total=   3.7s\n",
      "[CV] C=10000.0, class_weight=None ....................................\n"
     ]
    },
    {
     "name": "stdout",
     "output_type": "stream",
     "text": [
      "[CV] ........ C=10000.0, class_weight=None, score=0.339, total=   4.0s\n",
      "[CV] C=10000.0, class_weight=None ....................................\n",
      "[CV] ........ C=10000.0, class_weight=None, score=0.253, total=   3.7s\n",
      "[CV] C=10000.0, class_weight=None ....................................\n",
      "[CV] ........ C=10000.0, class_weight=None, score=0.295, total=   4.2s\n",
      "[CV] C=10000.0, class_weight=None ....................................\n",
      "[CV] ........ C=10000.0, class_weight=None, score=0.353, total=   3.5s\n",
      "[CV] C=10000.0, class_weight=balanced ................................\n",
      "[CV] .... C=10000.0, class_weight=balanced, score=0.341, total=   4.5s\n",
      "[CV] C=10000.0, class_weight=balanced ................................\n",
      "[CV] .... C=10000.0, class_weight=balanced, score=0.328, total=   3.8s\n",
      "[CV] C=10000.0, class_weight=balanced ................................\n",
      "[CV] .... C=10000.0, class_weight=balanced, score=0.252, total=   3.6s\n",
      "[CV] C=10000.0, class_weight=balanced ................................\n",
      "[CV] .... C=10000.0, class_weight=balanced, score=0.296, total=   3.7s\n",
      "[CV] C=10000.0, class_weight=balanced ................................\n",
      "[CV] .... C=10000.0, class_weight=balanced, score=0.350, total=   4.3s\n",
      "[CV] C=20000.0, class_weight=None ....................................\n",
      "[CV] ........ C=20000.0, class_weight=None, score=0.358, total=   6.7s\n",
      "[CV] C=20000.0, class_weight=None ....................................\n",
      "[CV] ........ C=20000.0, class_weight=None, score=0.334, total=   6.5s\n",
      "[CV] C=20000.0, class_weight=None ....................................\n",
      "[CV] ........ C=20000.0, class_weight=None, score=0.264, total=   5.8s\n",
      "[CV] C=20000.0, class_weight=None ....................................\n",
      "[CV] ........ C=20000.0, class_weight=None, score=0.291, total=   5.8s\n",
      "[CV] C=20000.0, class_weight=None ....................................\n",
      "[CV] ........ C=20000.0, class_weight=None, score=0.351, total=   5.3s\n",
      "[CV] C=20000.0, class_weight=balanced ................................\n",
      "[CV] .... C=20000.0, class_weight=balanced, score=0.331, total=   6.8s\n",
      "[CV] C=20000.0, class_weight=balanced ................................\n",
      "[CV] .... C=20000.0, class_weight=balanced, score=0.321, total=   5.5s\n",
      "[CV] C=20000.0, class_weight=balanced ................................\n",
      "[CV] .... C=20000.0, class_weight=balanced, score=0.249, total=   6.0s\n",
      "[CV] C=20000.0, class_weight=balanced ................................\n",
      "[CV] .... C=20000.0, class_weight=balanced, score=0.291, total=   5.8s\n",
      "[CV] C=20000.0, class_weight=balanced ................................\n",
      "[CV] .... C=20000.0, class_weight=balanced, score=0.343, total=   5.7s\n",
      "[CV] C=30000.0, class_weight=None ....................................\n",
      "[CV] ........ C=30000.0, class_weight=None, score=0.361, total=   7.4s\n",
      "[CV] C=30000.0, class_weight=None ....................................\n",
      "[CV] ........ C=30000.0, class_weight=None, score=0.338, total=   8.4s\n",
      "[CV] C=30000.0, class_weight=None ....................................\n",
      "[CV] ........ C=30000.0, class_weight=None, score=0.262, total=   8.8s\n",
      "[CV] C=30000.0, class_weight=None ....................................\n",
      "[CV] ........ C=30000.0, class_weight=None, score=0.278, total=   7.9s\n",
      "[CV] C=30000.0, class_weight=None ....................................\n",
      "[CV] ........ C=30000.0, class_weight=None, score=0.354, total=   9.0s\n",
      "[CV] C=30000.0, class_weight=balanced ................................\n",
      "[CV] .... C=30000.0, class_weight=balanced, score=0.339, total=   8.7s\n",
      "[CV] C=30000.0, class_weight=balanced ................................\n",
      "[CV] .... C=30000.0, class_weight=balanced, score=0.314, total=   9.1s\n",
      "[CV] C=30000.0, class_weight=balanced ................................\n",
      "[CV] .... C=30000.0, class_weight=balanced, score=0.253, total=   8.9s\n",
      "[CV] C=30000.0, class_weight=balanced ................................\n",
      "[CV] .... C=30000.0, class_weight=balanced, score=0.285, total=   7.1s\n",
      "[CV] C=30000.0, class_weight=balanced ................................\n",
      "[CV] .... C=30000.0, class_weight=balanced, score=0.337, total=   7.7s\n",
      "[CV] C=40000.0, class_weight=None ....................................\n",
      "[CV] ........ C=40000.0, class_weight=None, score=0.362, total=   8.4s\n",
      "[CV] C=40000.0, class_weight=None ....................................\n",
      "[CV] ........ C=40000.0, class_weight=None, score=0.331, total=  14.4s\n",
      "[CV] C=40000.0, class_weight=None ....................................\n",
      "[CV] ........ C=40000.0, class_weight=None, score=0.266, total=   9.6s\n",
      "[CV] C=40000.0, class_weight=None ....................................\n",
      "[CV] ........ C=40000.0, class_weight=None, score=0.279, total=   9.2s\n",
      "[CV] C=40000.0, class_weight=None ....................................\n",
      "[CV] ........ C=40000.0, class_weight=None, score=0.352, total=  10.0s\n",
      "[CV] C=40000.0, class_weight=balanced ................................\n",
      "[CV] .... C=40000.0, class_weight=balanced, score=0.333, total=   8.9s\n",
      "[CV] C=40000.0, class_weight=balanced ................................\n",
      "[CV] .... C=40000.0, class_weight=balanced, score=0.311, total=   9.3s\n",
      "[CV] C=40000.0, class_weight=balanced ................................\n",
      "[CV] .... C=40000.0, class_weight=balanced, score=0.250, total=  10.9s\n",
      "[CV] C=40000.0, class_weight=balanced ................................\n",
      "[CV] .... C=40000.0, class_weight=balanced, score=0.285, total=  11.5s\n",
      "[CV] C=40000.0, class_weight=balanced ................................\n",
      "[CV] .... C=40000.0, class_weight=balanced, score=0.337, total=   8.1s\n",
      "[CV] C=100000.0, class_weight=None ...................................\n",
      "[CV] ....... C=100000.0, class_weight=None, score=0.374, total=  21.3s\n",
      "[CV] C=100000.0, class_weight=None ...................................\n",
      "[CV] ....... C=100000.0, class_weight=None, score=0.336, total=  40.3s\n",
      "[CV] C=100000.0, class_weight=None ...................................\n",
      "[CV] ....... C=100000.0, class_weight=None, score=0.274, total=  21.7s\n",
      "[CV] C=100000.0, class_weight=None ...................................\n",
      "[CV] ....... C=100000.0, class_weight=None, score=0.282, total=  17.3s\n",
      "[CV] C=100000.0, class_weight=None ...................................\n",
      "[CV] ....... C=100000.0, class_weight=None, score=0.354, total=  26.7s\n",
      "[CV] C=100000.0, class_weight=balanced ...............................\n",
      "[CV] ... C=100000.0, class_weight=balanced, score=0.349, total=  16.6s\n",
      "[CV] C=100000.0, class_weight=balanced ...............................\n",
      "[CV] ... C=100000.0, class_weight=balanced, score=0.313, total=  24.5s\n",
      "[CV] C=100000.0, class_weight=balanced ...............................\n",
      "[CV] ... C=100000.0, class_weight=balanced, score=0.240, total=  21.4s\n",
      "[CV] C=100000.0, class_weight=balanced ...............................\n",
      "[CV] ... C=100000.0, class_weight=balanced, score=0.287, total=  26.5s\n",
      "[CV] C=100000.0, class_weight=balanced ...............................\n",
      "[CV] ... C=100000.0, class_weight=balanced, score=0.330, total=  18.3s\n",
      "[CV] C=1000000.0, class_weight=None ..................................\n",
      "[CV] ...... C=1000000.0, class_weight=None, score=0.363, total= 3.4min\n",
      "[CV] C=1000000.0, class_weight=None ..................................\n",
      "[CV] ...... C=1000000.0, class_weight=None, score=0.311, total= 6.2min\n",
      "[CV] C=1000000.0, class_weight=None ..................................\n",
      "[CV] ...... C=1000000.0, class_weight=None, score=0.259, total= 2.9min\n",
      "[CV] C=1000000.0, class_weight=None ..................................\n",
      "[CV] ...... C=1000000.0, class_weight=None, score=0.261, total= 4.3min\n",
      "[CV] C=1000000.0, class_weight=None ..................................\n",
      "[CV] ...... C=1000000.0, class_weight=None, score=0.341, total= 3.2min\n",
      "[CV] C=1000000.0, class_weight=balanced ..............................\n",
      "[CV] .. C=1000000.0, class_weight=balanced, score=0.333, total= 1.9min\n",
      "[CV] C=1000000.0, class_weight=balanced ..............................\n",
      "[CV] .. C=1000000.0, class_weight=balanced, score=0.311, total= 4.6min\n",
      "[CV] C=1000000.0, class_weight=balanced ..............................\n",
      "[CV] .. C=1000000.0, class_weight=balanced, score=0.235, total= 2.1min\n",
      "[CV] C=1000000.0, class_weight=balanced ..............................\n",
      "[CV] .. C=1000000.0, class_weight=balanced, score=0.260, total= 4.4min\n",
      "[CV] C=1000000.0, class_weight=balanced ..............................\n"
     ]
    },
    {
     "name": "stdout",
     "output_type": "stream",
     "text": [
      "[CV] .. C=1000000.0, class_weight=balanced, score=0.328, total= 3.3min\n"
     ]
    },
    {
     "name": "stderr",
     "output_type": "stream",
     "text": [
      "[Parallel(n_jobs=1)]: Done 120 out of 120 | elapsed: 47.4min finished\n"
     ]
    },
    {
     "data": {
      "text/plain": [
       "GridSearchCV(estimator=SVC(),\n",
       "             param_grid={'C': [10, 100.0, 1000.0, 7000.0, 8000.0, 9000.0,\n",
       "                               10000.0, 20000.0, 30000.0, 40000.0, 100000.0,\n",
       "                               1000000.0],\n",
       "                         'class_weight': [None, 'balanced']},\n",
       "             scoring=make_scorer(matthews_corrcoef_func), verbose=4)"
      ]
     },
     "execution_count": 434,
     "metadata": {},
     "output_type": "execute_result"
    }
   ],
   "source": [
    "clf.fit(main_df.drop(axis=0, columns=['y']), main_df['y'])"
   ]
  },
  {
   "cell_type": "code",
   "execution_count": 435,
   "metadata": {},
   "outputs": [
    {
     "data": {
      "text/html": [
       "<div>\n",
       "<style scoped>\n",
       "    .dataframe tbody tr th:only-of-type {\n",
       "        vertical-align: middle;\n",
       "    }\n",
       "\n",
       "    .dataframe tbody tr th {\n",
       "        vertical-align: top;\n",
       "    }\n",
       "\n",
       "    .dataframe thead th {\n",
       "        text-align: right;\n",
       "    }\n",
       "</style>\n",
       "<table border=\"1\" class=\"dataframe\">\n",
       "  <thead>\n",
       "    <tr style=\"text-align: right;\">\n",
       "      <th></th>\n",
       "      <th>mean_fit_time</th>\n",
       "      <th>std_fit_time</th>\n",
       "      <th>mean_score_time</th>\n",
       "      <th>std_score_time</th>\n",
       "      <th>param_C</th>\n",
       "      <th>param_class_weight</th>\n",
       "      <th>params</th>\n",
       "      <th>split0_test_score</th>\n",
       "      <th>split1_test_score</th>\n",
       "      <th>split2_test_score</th>\n",
       "      <th>split3_test_score</th>\n",
       "      <th>split4_test_score</th>\n",
       "      <th>mean_test_score</th>\n",
       "      <th>std_test_score</th>\n",
       "      <th>rank_test_score</th>\n",
       "    </tr>\n",
       "  </thead>\n",
       "  <tbody>\n",
       "    <tr>\n",
       "      <th>0</th>\n",
       "      <td>0.657786</td>\n",
       "      <td>0.021530</td>\n",
       "      <td>0.075330</td>\n",
       "      <td>0.002231</td>\n",
       "      <td>10</td>\n",
       "      <td>None</td>\n",
       "      <td>{'C': 10, 'class_weight': None}</td>\n",
       "      <td>0.309572</td>\n",
       "      <td>0.319978</td>\n",
       "      <td>0.239238</td>\n",
       "      <td>0.262145</td>\n",
       "      <td>0.320750</td>\n",
       "      <td>0.290337</td>\n",
       "      <td>0.033405</td>\n",
       "      <td>23</td>\n",
       "    </tr>\n",
       "    <tr>\n",
       "      <th>1</th>\n",
       "      <td>0.709590</td>\n",
       "      <td>0.068870</td>\n",
       "      <td>0.071910</td>\n",
       "      <td>0.006065</td>\n",
       "      <td>10</td>\n",
       "      <td>balanced</td>\n",
       "      <td>{'C': 10, 'class_weight': 'balanced'}</td>\n",
       "      <td>0.299676</td>\n",
       "      <td>0.297711</td>\n",
       "      <td>0.219190</td>\n",
       "      <td>0.246910</td>\n",
       "      <td>0.308139</td>\n",
       "      <td>0.274325</td>\n",
       "      <td>0.034998</td>\n",
       "      <td>24</td>\n",
       "    </tr>\n",
       "    <tr>\n",
       "      <th>2</th>\n",
       "      <td>0.826744</td>\n",
       "      <td>0.062441</td>\n",
       "      <td>0.070483</td>\n",
       "      <td>0.003455</td>\n",
       "      <td>100</td>\n",
       "      <td>None</td>\n",
       "      <td>{'C': 100.0, 'class_weight': None}</td>\n",
       "      <td>0.321892</td>\n",
       "      <td>0.351890</td>\n",
       "      <td>0.244711</td>\n",
       "      <td>0.260474</td>\n",
       "      <td>0.333160</td>\n",
       "      <td>0.302425</td>\n",
       "      <td>0.042098</td>\n",
       "      <td>20</td>\n",
       "    </tr>\n",
       "    <tr>\n",
       "      <th>3</th>\n",
       "      <td>0.876070</td>\n",
       "      <td>0.042026</td>\n",
       "      <td>0.072856</td>\n",
       "      <td>0.003154</td>\n",
       "      <td>100</td>\n",
       "      <td>balanced</td>\n",
       "      <td>{'C': 100.0, 'class_weight': 'balanced'}</td>\n",
       "      <td>0.318141</td>\n",
       "      <td>0.322625</td>\n",
       "      <td>0.223953</td>\n",
       "      <td>0.250768</td>\n",
       "      <td>0.348443</td>\n",
       "      <td>0.292786</td>\n",
       "      <td>0.047190</td>\n",
       "      <td>22</td>\n",
       "    </tr>\n",
       "    <tr>\n",
       "      <th>4</th>\n",
       "      <td>1.416130</td>\n",
       "      <td>0.115825</td>\n",
       "      <td>0.069165</td>\n",
       "      <td>0.002745</td>\n",
       "      <td>1000</td>\n",
       "      <td>None</td>\n",
       "      <td>{'C': 1000.0, 'class_weight': None}</td>\n",
       "      <td>0.342836</td>\n",
       "      <td>0.336052</td>\n",
       "      <td>0.253249</td>\n",
       "      <td>0.285787</td>\n",
       "      <td>0.345359</td>\n",
       "      <td>0.312656</td>\n",
       "      <td>0.036821</td>\n",
       "      <td>13</td>\n",
       "    </tr>\n",
       "    <tr>\n",
       "      <th>5</th>\n",
       "      <td>1.413395</td>\n",
       "      <td>0.223737</td>\n",
       "      <td>0.067064</td>\n",
       "      <td>0.004218</td>\n",
       "      <td>1000</td>\n",
       "      <td>balanced</td>\n",
       "      <td>{'C': 1000.0, 'class_weight': 'balanced'}</td>\n",
       "      <td>0.340799</td>\n",
       "      <td>0.338088</td>\n",
       "      <td>0.245752</td>\n",
       "      <td>0.272414</td>\n",
       "      <td>0.335476</td>\n",
       "      <td>0.306506</td>\n",
       "      <td>0.039663</td>\n",
       "      <td>16</td>\n",
       "    </tr>\n",
       "    <tr>\n",
       "      <th>6</th>\n",
       "      <td>3.211905</td>\n",
       "      <td>0.726333</td>\n",
       "      <td>0.064915</td>\n",
       "      <td>0.004978</td>\n",
       "      <td>7000</td>\n",
       "      <td>None</td>\n",
       "      <td>{'C': 7000.0, 'class_weight': None}</td>\n",
       "      <td>0.354071</td>\n",
       "      <td>0.328068</td>\n",
       "      <td>0.251664</td>\n",
       "      <td>0.301537</td>\n",
       "      <td>0.352792</td>\n",
       "      <td>0.317626</td>\n",
       "      <td>0.038167</td>\n",
       "      <td>7</td>\n",
       "    </tr>\n",
       "    <tr>\n",
       "      <th>7</th>\n",
       "      <td>3.375229</td>\n",
       "      <td>0.401950</td>\n",
       "      <td>0.064208</td>\n",
       "      <td>0.003198</td>\n",
       "      <td>7000</td>\n",
       "      <td>balanced</td>\n",
       "      <td>{'C': 7000.0, 'class_weight': 'balanced'}</td>\n",
       "      <td>0.348478</td>\n",
       "      <td>0.338147</td>\n",
       "      <td>0.251428</td>\n",
       "      <td>0.300655</td>\n",
       "      <td>0.352844</td>\n",
       "      <td>0.318310</td>\n",
       "      <td>0.038160</td>\n",
       "      <td>4</td>\n",
       "    </tr>\n",
       "    <tr>\n",
       "      <th>8</th>\n",
       "      <td>3.453267</td>\n",
       "      <td>0.330718</td>\n",
       "      <td>0.066221</td>\n",
       "      <td>0.001849</td>\n",
       "      <td>8000</td>\n",
       "      <td>None</td>\n",
       "      <td>{'C': 8000.0, 'class_weight': None}</td>\n",
       "      <td>0.353301</td>\n",
       "      <td>0.331289</td>\n",
       "      <td>0.247419</td>\n",
       "      <td>0.300127</td>\n",
       "      <td>0.350038</td>\n",
       "      <td>0.316435</td>\n",
       "      <td>0.039340</td>\n",
       "      <td>10</td>\n",
       "    </tr>\n",
       "    <tr>\n",
       "      <th>9</th>\n",
       "      <td>3.668805</td>\n",
       "      <td>0.423822</td>\n",
       "      <td>0.067149</td>\n",
       "      <td>0.002806</td>\n",
       "      <td>8000</td>\n",
       "      <td>balanced</td>\n",
       "      <td>{'C': 8000.0, 'class_weight': 'balanced'}</td>\n",
       "      <td>0.346747</td>\n",
       "      <td>0.331289</td>\n",
       "      <td>0.250707</td>\n",
       "      <td>0.296374</td>\n",
       "      <td>0.346824</td>\n",
       "      <td>0.314388</td>\n",
       "      <td>0.036782</td>\n",
       "      <td>11</td>\n",
       "    </tr>\n",
       "    <tr>\n",
       "      <th>10</th>\n",
       "      <td>3.593731</td>\n",
       "      <td>0.392892</td>\n",
       "      <td>0.068558</td>\n",
       "      <td>0.002493</td>\n",
       "      <td>9000</td>\n",
       "      <td>None</td>\n",
       "      <td>{'C': 9000.0, 'class_weight': None}</td>\n",
       "      <td>0.349813</td>\n",
       "      <td>0.339047</td>\n",
       "      <td>0.255248</td>\n",
       "      <td>0.292336</td>\n",
       "      <td>0.352540</td>\n",
       "      <td>0.317797</td>\n",
       "      <td>0.038064</td>\n",
       "      <td>6</td>\n",
       "    </tr>\n",
       "    <tr>\n",
       "      <th>11</th>\n",
       "      <td>3.502447</td>\n",
       "      <td>0.267298</td>\n",
       "      <td>0.064327</td>\n",
       "      <td>0.002202</td>\n",
       "      <td>9000</td>\n",
       "      <td>balanced</td>\n",
       "      <td>{'C': 9000.0, 'class_weight': 'balanced'}</td>\n",
       "      <td>0.345913</td>\n",
       "      <td>0.333029</td>\n",
       "      <td>0.256061</td>\n",
       "      <td>0.298137</td>\n",
       "      <td>0.351112</td>\n",
       "      <td>0.316850</td>\n",
       "      <td>0.035569</td>\n",
       "      <td>9</td>\n",
       "    </tr>\n",
       "    <tr>\n",
       "      <th>12</th>\n",
       "      <td>3.766313</td>\n",
       "      <td>0.258038</td>\n",
       "      <td>0.067162</td>\n",
       "      <td>0.003442</td>\n",
       "      <td>10000</td>\n",
       "      <td>None</td>\n",
       "      <td>{'C': 10000.0, 'class_weight': None}</td>\n",
       "      <td>0.345555</td>\n",
       "      <td>0.339047</td>\n",
       "      <td>0.252800</td>\n",
       "      <td>0.294810</td>\n",
       "      <td>0.352540</td>\n",
       "      <td>0.316950</td>\n",
       "      <td>0.037891</td>\n",
       "      <td>8</td>\n",
       "    </tr>\n",
       "    <tr>\n",
       "      <th>13</th>\n",
       "      <td>3.903219</td>\n",
       "      <td>0.343860</td>\n",
       "      <td>0.065219</td>\n",
       "      <td>0.002078</td>\n",
       "      <td>10000</td>\n",
       "      <td>balanced</td>\n",
       "      <td>{'C': 10000.0, 'class_weight': 'balanced'}</td>\n",
       "      <td>0.340713</td>\n",
       "      <td>0.327929</td>\n",
       "      <td>0.251778</td>\n",
       "      <td>0.296374</td>\n",
       "      <td>0.350293</td>\n",
       "      <td>0.313417</td>\n",
       "      <td>0.035792</td>\n",
       "      <td>12</td>\n",
       "    </tr>\n",
       "    <tr>\n",
       "      <th>14</th>\n",
       "      <td>5.973437</td>\n",
       "      <td>0.526304</td>\n",
       "      <td>0.067225</td>\n",
       "      <td>0.002989</td>\n",
       "      <td>20000</td>\n",
       "      <td>None</td>\n",
       "      <td>{'C': 20000.0, 'class_weight': None}</td>\n",
       "      <td>0.358045</td>\n",
       "      <td>0.334070</td>\n",
       "      <td>0.264069</td>\n",
       "      <td>0.290954</td>\n",
       "      <td>0.351041</td>\n",
       "      <td>0.319636</td>\n",
       "      <td>0.036277</td>\n",
       "      <td>2</td>\n",
       "    </tr>\n",
       "    <tr>\n",
       "      <th>15</th>\n",
       "      <td>5.897892</td>\n",
       "      <td>0.441700</td>\n",
       "      <td>0.064754</td>\n",
       "      <td>0.001179</td>\n",
       "      <td>20000</td>\n",
       "      <td>balanced</td>\n",
       "      <td>{'C': 20000.0, 'class_weight': 'balanced'}</td>\n",
       "      <td>0.330622</td>\n",
       "      <td>0.321097</td>\n",
       "      <td>0.248580</td>\n",
       "      <td>0.291346</td>\n",
       "      <td>0.343354</td>\n",
       "      <td>0.307000</td>\n",
       "      <td>0.033871</td>\n",
       "      <td>15</td>\n",
       "    </tr>\n",
       "    <tr>\n",
       "      <th>16</th>\n",
       "      <td>8.221314</td>\n",
       "      <td>0.582848</td>\n",
       "      <td>0.064347</td>\n",
       "      <td>0.002821</td>\n",
       "      <td>30000</td>\n",
       "      <td>None</td>\n",
       "      <td>{'C': 30000.0, 'class_weight': None}</td>\n",
       "      <td>0.360823</td>\n",
       "      <td>0.337916</td>\n",
       "      <td>0.261643</td>\n",
       "      <td>0.278236</td>\n",
       "      <td>0.353809</td>\n",
       "      <td>0.318486</td>\n",
       "      <td>0.040667</td>\n",
       "      <td>3</td>\n",
       "    </tr>\n",
       "    <tr>\n",
       "      <th>17</th>\n",
       "      <td>8.229161</td>\n",
       "      <td>0.766007</td>\n",
       "      <td>0.062485</td>\n",
       "      <td>0.000898</td>\n",
       "      <td>30000</td>\n",
       "      <td>balanced</td>\n",
       "      <td>{'C': 30000.0, 'class_weight': 'balanced'}</td>\n",
       "      <td>0.339347</td>\n",
       "      <td>0.314274</td>\n",
       "      <td>0.253249</td>\n",
       "      <td>0.284564</td>\n",
       "      <td>0.336509</td>\n",
       "      <td>0.305588</td>\n",
       "      <td>0.032719</td>\n",
       "      <td>17</td>\n",
       "    </tr>\n",
       "    <tr>\n",
       "      <th>18</th>\n",
       "      <td>10.254191</td>\n",
       "      <td>2.102789</td>\n",
       "      <td>0.058255</td>\n",
       "      <td>0.000812</td>\n",
       "      <td>40000</td>\n",
       "      <td>None</td>\n",
       "      <td>{'C': 40000.0, 'class_weight': None}</td>\n",
       "      <td>0.361548</td>\n",
       "      <td>0.330525</td>\n",
       "      <td>0.265863</td>\n",
       "      <td>0.278913</td>\n",
       "      <td>0.352365</td>\n",
       "      <td>0.317843</td>\n",
       "      <td>0.038679</td>\n",
       "      <td>5</td>\n",
       "    </tr>\n",
       "    <tr>\n",
       "      <th>19</th>\n",
       "      <td>9.708540</td>\n",
       "      <td>1.259075</td>\n",
       "      <td>0.056875</td>\n",
       "      <td>0.000633</td>\n",
       "      <td>40000</td>\n",
       "      <td>balanced</td>\n",
       "      <td>{'C': 40000.0, 'class_weight': 'balanced'}</td>\n",
       "      <td>0.332555</td>\n",
       "      <td>0.311214</td>\n",
       "      <td>0.249672</td>\n",
       "      <td>0.284564</td>\n",
       "      <td>0.336509</td>\n",
       "      <td>0.302903</td>\n",
       "      <td>0.032396</td>\n",
       "      <td>19</td>\n",
       "    </tr>\n",
       "    <tr>\n",
       "      <th>20</th>\n",
       "      <td>25.413774</td>\n",
       "      <td>8.003597</td>\n",
       "      <td>0.057647</td>\n",
       "      <td>0.000593</td>\n",
       "      <td>100000</td>\n",
       "      <td>None</td>\n",
       "      <td>{'C': 100000.0, 'class_weight': None}</td>\n",
       "      <td>0.373819</td>\n",
       "      <td>0.336245</td>\n",
       "      <td>0.274302</td>\n",
       "      <td>0.281602</td>\n",
       "      <td>0.354475</td>\n",
       "      <td>0.324089</td>\n",
       "      <td>0.039568</td>\n",
       "      <td>1</td>\n",
       "    </tr>\n",
       "    <tr>\n",
       "      <th>21</th>\n",
       "      <td>21.394715</td>\n",
       "      <td>3.697894</td>\n",
       "      <td>0.056425</td>\n",
       "      <td>0.000715</td>\n",
       "      <td>100000</td>\n",
       "      <td>balanced</td>\n",
       "      <td>{'C': 100000.0, 'class_weight': 'balanced'}</td>\n",
       "      <td>0.349047</td>\n",
       "      <td>0.312973</td>\n",
       "      <td>0.240026</td>\n",
       "      <td>0.287377</td>\n",
       "      <td>0.330037</td>\n",
       "      <td>0.303892</td>\n",
       "      <td>0.037833</td>\n",
       "      <td>18</td>\n",
       "    </tr>\n",
       "    <tr>\n",
       "      <th>22</th>\n",
       "      <td>241.035501</td>\n",
       "      <td>70.787870</td>\n",
       "      <td>0.070307</td>\n",
       "      <td>0.023961</td>\n",
       "      <td>1e+06</td>\n",
       "      <td>None</td>\n",
       "      <td>{'C': 1000000.0, 'class_weight': None}</td>\n",
       "      <td>0.363021</td>\n",
       "      <td>0.311089</td>\n",
       "      <td>0.259489</td>\n",
       "      <td>0.261499</td>\n",
       "      <td>0.340801</td>\n",
       "      <td>0.307180</td>\n",
       "      <td>0.041533</td>\n",
       "      <td>14</td>\n",
       "    </tr>\n",
       "    <tr>\n",
       "      <th>23</th>\n",
       "      <td>196.119442</td>\n",
       "      <td>67.012932</td>\n",
       "      <td>0.058405</td>\n",
       "      <td>0.003785</td>\n",
       "      <td>1e+06</td>\n",
       "      <td>balanced</td>\n",
       "      <td>{'C': 1000000.0, 'class_weight': 'balanced'}</td>\n",
       "      <td>0.332879</td>\n",
       "      <td>0.311215</td>\n",
       "      <td>0.235331</td>\n",
       "      <td>0.260474</td>\n",
       "      <td>0.327808</td>\n",
       "      <td>0.293541</td>\n",
       "      <td>0.038771</td>\n",
       "      <td>21</td>\n",
       "    </tr>\n",
       "  </tbody>\n",
       "</table>\n",
       "</div>"
      ],
      "text/plain": [
       "    mean_fit_time  std_fit_time  mean_score_time  std_score_time param_C  \\\n",
       "0        0.657786      0.021530         0.075330        0.002231      10   \n",
       "1        0.709590      0.068870         0.071910        0.006065      10   \n",
       "2        0.826744      0.062441         0.070483        0.003455     100   \n",
       "3        0.876070      0.042026         0.072856        0.003154     100   \n",
       "4        1.416130      0.115825         0.069165        0.002745    1000   \n",
       "5        1.413395      0.223737         0.067064        0.004218    1000   \n",
       "6        3.211905      0.726333         0.064915        0.004978    7000   \n",
       "7        3.375229      0.401950         0.064208        0.003198    7000   \n",
       "8        3.453267      0.330718         0.066221        0.001849    8000   \n",
       "9        3.668805      0.423822         0.067149        0.002806    8000   \n",
       "10       3.593731      0.392892         0.068558        0.002493    9000   \n",
       "11       3.502447      0.267298         0.064327        0.002202    9000   \n",
       "12       3.766313      0.258038         0.067162        0.003442   10000   \n",
       "13       3.903219      0.343860         0.065219        0.002078   10000   \n",
       "14       5.973437      0.526304         0.067225        0.002989   20000   \n",
       "15       5.897892      0.441700         0.064754        0.001179   20000   \n",
       "16       8.221314      0.582848         0.064347        0.002821   30000   \n",
       "17       8.229161      0.766007         0.062485        0.000898   30000   \n",
       "18      10.254191      2.102789         0.058255        0.000812   40000   \n",
       "19       9.708540      1.259075         0.056875        0.000633   40000   \n",
       "20      25.413774      8.003597         0.057647        0.000593  100000   \n",
       "21      21.394715      3.697894         0.056425        0.000715  100000   \n",
       "22     241.035501     70.787870         0.070307        0.023961   1e+06   \n",
       "23     196.119442     67.012932         0.058405        0.003785   1e+06   \n",
       "\n",
       "   param_class_weight                                        params  \\\n",
       "0                None               {'C': 10, 'class_weight': None}   \n",
       "1            balanced         {'C': 10, 'class_weight': 'balanced'}   \n",
       "2                None            {'C': 100.0, 'class_weight': None}   \n",
       "3            balanced      {'C': 100.0, 'class_weight': 'balanced'}   \n",
       "4                None           {'C': 1000.0, 'class_weight': None}   \n",
       "5            balanced     {'C': 1000.0, 'class_weight': 'balanced'}   \n",
       "6                None           {'C': 7000.0, 'class_weight': None}   \n",
       "7            balanced     {'C': 7000.0, 'class_weight': 'balanced'}   \n",
       "8                None           {'C': 8000.0, 'class_weight': None}   \n",
       "9            balanced     {'C': 8000.0, 'class_weight': 'balanced'}   \n",
       "10               None           {'C': 9000.0, 'class_weight': None}   \n",
       "11           balanced     {'C': 9000.0, 'class_weight': 'balanced'}   \n",
       "12               None          {'C': 10000.0, 'class_weight': None}   \n",
       "13           balanced    {'C': 10000.0, 'class_weight': 'balanced'}   \n",
       "14               None          {'C': 20000.0, 'class_weight': None}   \n",
       "15           balanced    {'C': 20000.0, 'class_weight': 'balanced'}   \n",
       "16               None          {'C': 30000.0, 'class_weight': None}   \n",
       "17           balanced    {'C': 30000.0, 'class_weight': 'balanced'}   \n",
       "18               None          {'C': 40000.0, 'class_weight': None}   \n",
       "19           balanced    {'C': 40000.0, 'class_weight': 'balanced'}   \n",
       "20               None         {'C': 100000.0, 'class_weight': None}   \n",
       "21           balanced   {'C': 100000.0, 'class_weight': 'balanced'}   \n",
       "22               None        {'C': 1000000.0, 'class_weight': None}   \n",
       "23           balanced  {'C': 1000000.0, 'class_weight': 'balanced'}   \n",
       "\n",
       "    split0_test_score  split1_test_score  split2_test_score  \\\n",
       "0            0.309572           0.319978           0.239238   \n",
       "1            0.299676           0.297711           0.219190   \n",
       "2            0.321892           0.351890           0.244711   \n",
       "3            0.318141           0.322625           0.223953   \n",
       "4            0.342836           0.336052           0.253249   \n",
       "5            0.340799           0.338088           0.245752   \n",
       "6            0.354071           0.328068           0.251664   \n",
       "7            0.348478           0.338147           0.251428   \n",
       "8            0.353301           0.331289           0.247419   \n",
       "9            0.346747           0.331289           0.250707   \n",
       "10           0.349813           0.339047           0.255248   \n",
       "11           0.345913           0.333029           0.256061   \n",
       "12           0.345555           0.339047           0.252800   \n",
       "13           0.340713           0.327929           0.251778   \n",
       "14           0.358045           0.334070           0.264069   \n",
       "15           0.330622           0.321097           0.248580   \n",
       "16           0.360823           0.337916           0.261643   \n",
       "17           0.339347           0.314274           0.253249   \n",
       "18           0.361548           0.330525           0.265863   \n",
       "19           0.332555           0.311214           0.249672   \n",
       "20           0.373819           0.336245           0.274302   \n",
       "21           0.349047           0.312973           0.240026   \n",
       "22           0.363021           0.311089           0.259489   \n",
       "23           0.332879           0.311215           0.235331   \n",
       "\n",
       "    split3_test_score  split4_test_score  mean_test_score  std_test_score  \\\n",
       "0            0.262145           0.320750         0.290337        0.033405   \n",
       "1            0.246910           0.308139         0.274325        0.034998   \n",
       "2            0.260474           0.333160         0.302425        0.042098   \n",
       "3            0.250768           0.348443         0.292786        0.047190   \n",
       "4            0.285787           0.345359         0.312656        0.036821   \n",
       "5            0.272414           0.335476         0.306506        0.039663   \n",
       "6            0.301537           0.352792         0.317626        0.038167   \n",
       "7            0.300655           0.352844         0.318310        0.038160   \n",
       "8            0.300127           0.350038         0.316435        0.039340   \n",
       "9            0.296374           0.346824         0.314388        0.036782   \n",
       "10           0.292336           0.352540         0.317797        0.038064   \n",
       "11           0.298137           0.351112         0.316850        0.035569   \n",
       "12           0.294810           0.352540         0.316950        0.037891   \n",
       "13           0.296374           0.350293         0.313417        0.035792   \n",
       "14           0.290954           0.351041         0.319636        0.036277   \n",
       "15           0.291346           0.343354         0.307000        0.033871   \n",
       "16           0.278236           0.353809         0.318486        0.040667   \n",
       "17           0.284564           0.336509         0.305588        0.032719   \n",
       "18           0.278913           0.352365         0.317843        0.038679   \n",
       "19           0.284564           0.336509         0.302903        0.032396   \n",
       "20           0.281602           0.354475         0.324089        0.039568   \n",
       "21           0.287377           0.330037         0.303892        0.037833   \n",
       "22           0.261499           0.340801         0.307180        0.041533   \n",
       "23           0.260474           0.327808         0.293541        0.038771   \n",
       "\n",
       "    rank_test_score  \n",
       "0                23  \n",
       "1                24  \n",
       "2                20  \n",
       "3                22  \n",
       "4                13  \n",
       "5                16  \n",
       "6                 7  \n",
       "7                 4  \n",
       "8                10  \n",
       "9                11  \n",
       "10                6  \n",
       "11                9  \n",
       "12                8  \n",
       "13               12  \n",
       "14                2  \n",
       "15               15  \n",
       "16                3  \n",
       "17               17  \n",
       "18                5  \n",
       "19               19  \n",
       "20                1  \n",
       "21               18  \n",
       "22               14  \n",
       "23               21  "
      ]
     },
     "execution_count": 435,
     "metadata": {},
     "output_type": "execute_result"
    }
   ],
   "source": [
    "pd.DataFrame(clf.cv_results_)"
   ]
  },
  {
   "cell_type": "code",
   "execution_count": 436,
   "metadata": {},
   "outputs": [
    {
     "data": {
      "text/plain": [
       "SVC(C=100000.0)"
      ]
     },
     "execution_count": 436,
     "metadata": {},
     "output_type": "execute_result"
    }
   ],
   "source": [
    "clf.best_estimator_"
   ]
  },
  {
   "cell_type": "code",
   "execution_count": 437,
   "metadata": {},
   "outputs": [
    {
     "data": {
      "text/plain": [
       "0.32408865719663216"
      ]
     },
     "execution_count": 437,
     "metadata": {},
     "output_type": "execute_result"
    }
   ],
   "source": [
    "clf.best_score_"
   ]
  },
  {
   "cell_type": "code",
   "execution_count": 438,
   "metadata": {},
   "outputs": [
    {
     "data": {
      "text/plain": [
       "{'C': 100000.0, 'class_weight': None}"
      ]
     },
     "execution_count": 438,
     "metadata": {},
     "output_type": "execute_result"
    }
   ],
   "source": [
    "clf.best_params_"
   ]
  },
  {
   "cell_type": "code",
   "execution_count": 215,
   "metadata": {},
   "outputs": [],
   "source": [
    "with open('rbf_no_balanced_2500_С_1000_full.pkl', 'wb') as file:\n",
    "    pickle.dump(clf.best_estimator_, file)"
   ]
  },
  {
   "cell_type": "code",
   "execution_count": 278,
   "metadata": {},
   "outputs": [
    {
     "data": {
      "image/png": "[encoded data removed]",
      "text/plain": [
       "<Figure size 720x576 with 1 Axes>"
      ]
     },
     "metadata": {},
     "output_type": "display_data"
    }
   ],
   "source": [
    "sns.set(font_scale=1.5)\n",
    "sns.set_color_codes(\"muted\")\n",
    "\n",
    "fig = plt.figure(figsize=(10, 8))\n",
    "ax = fig.add_subplot()\n",
    "lw = 2\n",
    "ax.plot([10, 1e2, 1e3, 7*1e3, 8*1e3, 9*1e3, 1e4, 2*1e4, 3*1e4, 4*1e4, 1e5, 1e6],\n",
    "         [0.29,0.302,0.313,0.318,0.316,0.318,0.317,0.32,0.318,0.318,0.324,0.307], lw=lw, label='class_weight=None')\n",
    "ax.plot([10, 1e2, 1e3, 7*1e3, 8*1e3, 9*1e3, 1e4, 2*1e4, 3*1e4, 4*1e4, 1e5, 1e6],\n",
    "         [0.274,0.293,0.307,0.318,0.314,0.317,0.313,0.307,0.306,0.303,0.304,0.293], label='class_weight=balanced')\n",
    "ax.set_xscale('log')\n",
    "plt.xlabel('Параметр регуляризации C')\n",
    "plt.ylabel('Коэффициент Корреляции Мэтьюса ККМ')\n",
    "plt.legend()\n",
    "plt.savefig(\"KKM(C,class_weight).png\")\n",
    "plt.show()"
   ]
  },
  {
   "cell_type": "code",
   "execution_count": null,
   "metadata": {},
   "outputs": [],
   "source": []
  }
 ],
 "metadata": {
  "kernelspec": {
   "display_name": "Python 3",
   "language": "python",
   "name": "python3"
  },
  "language_info": {
   "codemirror_mode": {
    "name": "ipython",
    "version": 3
   },
   "file_extension": ".py",
   "mimetype": "text/x-python",
   "name": "python",
   "nbconvert_exporter": "python",
   "pygments_lexer": "ipython3",
   "version": "3.8.5"
  }
 },
 "nbformat": 4,
 "nbformat_minor": 4
}
