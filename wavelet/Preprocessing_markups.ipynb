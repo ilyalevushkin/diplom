{
 "cells": [
  {
   "cell_type": "code",
   "execution_count": 11,
   "metadata": {},
   "outputs": [],
   "source": [
    "import numpy as np\n",
    "%matplotlib inline\n",
    "import matplotlib.pyplot as plt\n",
    "import pandas as pd\n",
    "from pandas import json_normalize\n",
    "import json\n",
    "from scipy.stats import norm\n",
    "import seaborn as sns"
   ]
  },
  {
   "cell_type": "markdown",
   "metadata": {},
   "source": [
    "# Data preprocessing"
   ]
  },
  {
   "cell_type": "code",
   "execution_count": 3,
   "metadata": {},
   "outputs": [],
   "source": [
    "file = open('./example_Data/Audiozapis10.json','r')\n",
    "text = file.read()\n",
    "text = json.loads(text)\n",
    "df = json_normalize(text, 'phonemes')"
   ]
  },
  {
   "cell_type": "code",
   "execution_count": 4,
   "metadata": {},
   "outputs": [
    {
     "data": {
      "text/html": [
       "<div>\n",
       "<style scoped>\n",
       "    .dataframe tbody tr th:only-of-type {\n",
       "        vertical-align: middle;\n",
       "    }\n",
       "\n",
       "    .dataframe tbody tr th {\n",
       "        vertical-align: top;\n",
       "    }\n",
       "\n",
       "    .dataframe thead th {\n",
       "        text-align: right;\n",
       "    }\n",
       "</style>\n",
       "<table border=\"1\" class=\"dataframe\">\n",
       "  <thead>\n",
       "    <tr style=\"text-align: right;\">\n",
       "      <th></th>\n",
       "      <th>start</th>\n",
       "      <th>language</th>\n",
       "      <th>end</th>\n",
       "      <th>dialect</th>\n",
       "      <th>notation</th>\n",
       "    </tr>\n",
       "  </thead>\n",
       "  <tbody>\n",
       "    <tr>\n",
       "      <th>0</th>\n",
       "      <td>2.150</td>\n",
       "      <td>русский</td>\n",
       "      <td>2.205</td>\n",
       "      <td></td>\n",
       "      <td>р’</td>\n",
       "    </tr>\n",
       "    <tr>\n",
       "      <th>1</th>\n",
       "      <td>4.105</td>\n",
       "      <td>русский</td>\n",
       "      <td>4.186</td>\n",
       "      <td></td>\n",
       "      <td>в</td>\n",
       "    </tr>\n",
       "    <tr>\n",
       "      <th>2</th>\n",
       "      <td>46.469</td>\n",
       "      <td>русский</td>\n",
       "      <td>46.567</td>\n",
       "      <td></td>\n",
       "      <td>н</td>\n",
       "    </tr>\n",
       "    <tr>\n",
       "      <th>3</th>\n",
       "      <td>2.314</td>\n",
       "      <td>русский</td>\n",
       "      <td>2.352</td>\n",
       "      <td></td>\n",
       "      <td>г</td>\n",
       "    </tr>\n",
       "    <tr>\n",
       "      <th>4</th>\n",
       "      <td>46.820</td>\n",
       "      <td>русский</td>\n",
       "      <td>46.916</td>\n",
       "      <td></td>\n",
       "      <td>э</td>\n",
       "    </tr>\n",
       "  </tbody>\n",
       "</table>\n",
       "</div>"
      ],
      "text/plain": [
       "    start language     end dialect notation\n",
       "0   2.150  русский   2.205               р’\n",
       "1   4.105  русский   4.186                в\n",
       "2  46.469  русский  46.567                н\n",
       "3   2.314  русский   2.352                г\n",
       "4  46.820  русский  46.916                э"
      ]
     },
     "execution_count": 4,
     "metadata": {},
     "output_type": "execute_result"
    }
   ],
   "source": [
    "df.head()"
   ]
  },
  {
   "cell_type": "code",
   "execution_count": 5,
   "metadata": {},
   "outputs": [],
   "source": [
    "df_start_end = df.drop(['language', 'dialect', 'notation'], axis=1)"
   ]
  },
  {
   "cell_type": "code",
   "execution_count": 6,
   "metadata": {},
   "outputs": [],
   "source": [
    "# делаем из object float64 + сбрасываем индексы\n",
    "df_start_end = df_start_end.astype('float64').sort_values(by=['start']).reset_index()[['start', 'end']]"
   ]
  },
  {
   "cell_type": "code",
   "execution_count": 7,
   "metadata": {},
   "outputs": [
    {
     "data": {
      "text/html": [
       "<div>\n",
       "<style scoped>\n",
       "    .dataframe tbody tr th:only-of-type {\n",
       "        vertical-align: middle;\n",
       "    }\n",
       "\n",
       "    .dataframe tbody tr th {\n",
       "        vertical-align: top;\n",
       "    }\n",
       "\n",
       "    .dataframe thead th {\n",
       "        text-align: right;\n",
       "    }\n",
       "</style>\n",
       "<table border=\"1\" class=\"dataframe\">\n",
       "  <thead>\n",
       "    <tr style=\"text-align: right;\">\n",
       "      <th></th>\n",
       "      <th>start</th>\n",
       "      <th>end</th>\n",
       "    </tr>\n",
       "  </thead>\n",
       "  <tbody>\n",
       "    <tr>\n",
       "      <th>0</th>\n",
       "      <td>0.516</td>\n",
       "      <td>0.637</td>\n",
       "    </tr>\n",
       "    <tr>\n",
       "      <th>1</th>\n",
       "      <td>0.648</td>\n",
       "      <td>0.762</td>\n",
       "    </tr>\n",
       "    <tr>\n",
       "      <th>2</th>\n",
       "      <td>0.762</td>\n",
       "      <td>0.839</td>\n",
       "    </tr>\n",
       "    <tr>\n",
       "      <th>3</th>\n",
       "      <td>0.861</td>\n",
       "      <td>0.964</td>\n",
       "    </tr>\n",
       "    <tr>\n",
       "      <th>4</th>\n",
       "      <td>0.975</td>\n",
       "      <td>1.068</td>\n",
       "    </tr>\n",
       "    <tr>\n",
       "      <th>...</th>\n",
       "      <td>...</td>\n",
       "      <td>...</td>\n",
       "    </tr>\n",
       "    <tr>\n",
       "      <th>465</th>\n",
       "      <td>386.508</td>\n",
       "      <td>386.599</td>\n",
       "    </tr>\n",
       "    <tr>\n",
       "      <th>466</th>\n",
       "      <td>386.615</td>\n",
       "      <td>386.715</td>\n",
       "    </tr>\n",
       "    <tr>\n",
       "      <th>467</th>\n",
       "      <td>386.702</td>\n",
       "      <td>386.796</td>\n",
       "    </tr>\n",
       "    <tr>\n",
       "      <th>468</th>\n",
       "      <td>386.777</td>\n",
       "      <td>386.936</td>\n",
       "    </tr>\n",
       "    <tr>\n",
       "      <th>469</th>\n",
       "      <td>386.880</td>\n",
       "      <td>387.058</td>\n",
       "    </tr>\n",
       "  </tbody>\n",
       "</table>\n",
       "<p>470 rows × 2 columns</p>\n",
       "</div>"
      ],
      "text/plain": [
       "       start      end\n",
       "0      0.516    0.637\n",
       "1      0.648    0.762\n",
       "2      0.762    0.839\n",
       "3      0.861    0.964\n",
       "4      0.975    1.068\n",
       "..       ...      ...\n",
       "465  386.508  386.599\n",
       "466  386.615  386.715\n",
       "467  386.702  386.796\n",
       "468  386.777  386.936\n",
       "469  386.880  387.058\n",
       "\n",
       "[470 rows x 2 columns]"
      ]
     },
     "execution_count": 7,
     "metadata": {},
     "output_type": "execute_result"
    }
   ],
   "source": [
    "df_start_end"
   ]
  },
  {
   "cell_type": "code",
   "execution_count": 8,
   "metadata": {},
   "outputs": [],
   "source": [
    "# сливаем start и end в один список границ и сортируем границы\n",
    "def merge_2_columns_on_row(df, column_name_1, column_name_2):\n",
    "    lst = []\n",
    "    for column_1_i, column_2_i in zip(df[column_name_1], df[column_name_2]):\n",
    "        lst.append(column_1_i)\n",
    "        lst.append(column_2_i)\n",
    "    return lst\n",
    "borders = np.sort(np.array(merge_2_columns_on_row(df_start_end, 'start', 'end')))"
   ]
  },
  {
   "cell_type": "code",
   "execution_count": 9,
   "metadata": {},
   "outputs": [
    {
     "data": {
      "text/plain": [
       "(940,)"
      ]
     },
     "execution_count": 9,
     "metadata": {},
     "output_type": "execute_result"
    }
   ],
   "source": [
    "borders.shape"
   ]
  },
  {
   "cell_type": "code",
   "execution_count": 10,
   "metadata": {},
   "outputs": [],
   "source": [
    "def check_on_min_phonem_interval(lst, min_phonem_interval=0.025):\n",
    "    flag = True\n",
    "    while flag:\n",
    "        flag = False\n",
    "        res = []\n",
    "        next_elem_i = 1\n",
    "        while (next_elem_i < len(lst)):\n",
    "            before_elem = lst[next_elem_i - 1]\n",
    "            if (lst[next_elem_i] - before_elem < min_phonem_interval):\n",
    "                flag = True\n",
    "                res.append(np.mean([before_elem, lst[next_elem_i]]))\n",
    "                next_elem_i += 1\n",
    "            else:\n",
    "                res.append(before_elem)\n",
    "            next_elem_i += 1\n",
    "        if (lst[-1] - res[-1] >= min_phonem_interval):\n",
    "            res.append(lst[-1])\n",
    "        lst = res\n",
    "    return lst\n",
    "\n",
    "# задаем минимальный межфонемный интервал в 25 мсек\n",
    "min_phonem_interval = 0.025\n",
    "# убираем границы, разница между которыми меньше 25 мсек\n",
    "borders = check_on_min_phonem_interval(borders)"
   ]
  },
  {
   "cell_type": "markdown",
   "metadata": {},
   "source": [
    "## преобразуем последовательность границ в случайную величину, \n",
    "## плотность рапределения которой показывает, на сколько вероятно то, что в данный момент времени есть граница\n",
    "## для этого применим нормальное распределение к borders"
   ]
  },
  {
   "cell_type": "code",
   "execution_count": 12,
   "metadata": {},
   "outputs": [
    {
     "data": {
      "image/png": "[encoded data removed]",
      "text/plain": [
       "<Figure size 432x288 with 1 Axes>"
      ]
     },
     "metadata": {
      "needs_background": "light"
     },
     "output_type": "display_data"
    }
   ],
   "source": [
    "# плотность стандартного нормального распределения с квантилями\n",
    "x = np.linspace(norm.ppf(0.01),\n",
    "                norm.ppf(0.99), 100)\n",
    "y = norm.pdf(x, scale=1.0, loc=0.)\n",
    "y1 = norm.pdf(x, scale=1.0, loc=2.)\n",
    "\n",
    "fig, ax = plt.subplots(1,1)\n",
    "ax.plot(x, y)\n",
    "plt.vlines([-1.645, 1.645], y.min(), y.max(), color = 'r')\n",
    "ax.plot(x, y1)\n",
    "plt.show()"
   ]
  },
  {
   "cell_type": "code",
   "execution_count": 13,
   "metadata": {},
   "outputs": [
    {
     "data": {
      "text/plain": [
       "(1.6448536269514722, 0.10313564037537139)"
      ]
     },
     "execution_count": 13,
     "metadata": {},
     "output_type": "execute_result"
    }
   ],
   "source": [
    "# 95% квантиль (1.645 от 0 равен 0.103)\n",
    "quantile_pos = norm.ppf(0.95, scale=1.0, loc=0.)\n",
    "quantile_95 = norm.pdf(quantile_pos, scale=1.0, loc=0.)\n",
    "quantile_pos, quantile_95"
   ]
  },
  {
   "cell_type": "code",
   "execution_count": 14,
   "metadata": {},
   "outputs": [
    {
     "data": {
      "image/png": "[encoded data removed]",
      "text/plain": [
       "<Figure size 432x288 with 1 Axes>"
      ]
     },
     "metadata": {
      "needs_background": "light"
     },
     "output_type": "display_data"
    }
   ],
   "source": [
    "# пусть у нас самый максимум (точки borders) - это 0.4 (так как в норм распределении максимум - 0.4)\n",
    "# а самый минимум - это 95% квантиль (1,645 от 0 в ст. норм. распр. равен 0.103)\n",
    "\n",
    "# построим график распределения первой точки borders[0]\n",
    "x = np.linspace(borders[0] - quantile_pos, borders[0] + quantile_pos, 100)\n",
    "y = norm.pdf(x, scale=1.0, loc=borders[0])\n",
    "\n",
    "fig, ax = plt.subplots(1,1)\n",
    "ax.plot(x, y)\n",
    "plt.show()"
   ]
  },
  {
   "cell_type": "markdown",
   "metadata": {},
   "source": [
    "### теперь необходимо сжать это распределение до размеров нашего доверия размечающим людям"
   ]
  },
  {
   "cell_type": "code",
   "execution_count": 16,
   "metadata": {},
   "outputs": [
    {
     "data": {
      "text/plain": [
       "0.11999999999999968"
      ]
     },
     "execution_count": 16,
     "metadata": {},
     "output_type": "execute_result"
    }
   ],
   "source": [
    "# зададим ср кв отклонение (scale) такое, что 95% квантиль находится на расстоянии 200 мс от. медианы\n",
    "# в переводе на русский - считаем, что разметка человека где граница фонем может ошибаться максимум на 0.2 мс \n",
    "# в обе стороны с 95% вероятностью\n",
    "\n",
    "def calc_norm_scale_for_quantile(distance = 0.2, quantile = 0.95):\n",
    "    # ничего лучше не придумал, как перебирать значения\n",
    "    start_scale = 0.5\n",
    "    step = 0.01\n",
    "    last_distance = norm.ppf(quantile, loc=0., scale=start_scale)\n",
    "    # чтоб не крашилась на больших distance\n",
    "    if (last_distance < distance):\n",
    "        return start_scale\n",
    "    \n",
    "    while (last_distance > distance):\n",
    "        start_scale -= step\n",
    "        last_distance = norm.ppf(quantile, loc=0., scale=start_scale)\n",
    "    # выбираем наиближайнее к distance\n",
    "    return start_scale if (abs(last_distance - distance) - \n",
    "            abs(norm.ppf(quantile, loc=0., scale=start_scale + step) - distance)) < 0 else start_scale + step\n",
    "\n",
    "distance = 0.2\n",
    "scale = calc_norm_scale_for_quantile(distance=distance)\n",
    "scale"
   ]
  },
  {
   "cell_type": "code",
   "execution_count": 17,
   "metadata": {},
   "outputs": [
    {
     "data": {
      "image/png": "[encoded data removed]",
      "text/plain": [
       "<Figure size 432x288 with 1 Axes>"
      ]
     },
     "metadata": {
      "needs_background": "light"
     },
     "output_type": "display_data"
    }
   ],
   "source": [
    "# построим наше результирующее нормальное распределение для первых двух точек\n",
    "x = np.linspace(borders[0] - distance, borders[0] + distance, 100)\n",
    "y = norm.pdf(x, loc = borders[0], scale = scale)\n",
    "\n",
    "x2 = np.linspace(borders[1] - distance, borders[1] + distance, 100)\n",
    "y2 = norm.pdf(x2, loc = borders[1], scale = scale)\n",
    "\n",
    "fig, ax = plt.subplots(1,1)\n",
    "ax.plot(x, y)\n",
    "ax.plot(x2, y2)\n",
    "plt.show()"
   ]
  },
  {
   "cell_type": "code",
   "execution_count": 18,
   "metadata": {},
   "outputs": [
    {
     "data": {
      "image/png": "[encoded data removed]",
      "text/plain": [
       "<Figure size 432x288 with 1 Axes>"
      ]
     },
     "metadata": {
      "needs_background": "light"
     },
     "output_type": "display_data"
    }
   ],
   "source": [
    "# убираем перекрывающиеся участки на графике (пока для двух точек)\n",
    "# чтобы это сделать, пересчитываем distance\n",
    "new_distance_between_first_borders = (borders[1] - borders[0]) / 2\n",
    "x = np.linspace(borders[0] - distance, borders[0] + new_distance_between_first_borders, 100)\n",
    "y = norm.pdf(x, loc = borders[0], scale = scale)\n",
    "\n",
    "x2 = np.linspace(borders[1] - new_distance_between_first_borders, borders[1] + distance, 100)\n",
    "y2 = norm.pdf(x2, loc = borders[1], scale = scale)\n",
    "\n",
    "fig, ax = plt.subplots(1,1)\n",
    "ax.plot(x, y)\n",
    "ax.plot(x2, y2)\n",
    "plt.show()"
   ]
  },
  {
   "cell_type": "code",
   "execution_count": 19,
   "metadata": {},
   "outputs": [
    {
     "data": {
      "text/plain": [
       "array([1., 2., 3., 4., 5., 6.])"
      ]
     },
     "execution_count": 19,
     "metadata": {},
     "output_type": "execute_result"
    }
   ],
   "source": [
    "np.hstack([np.array([]), np.array([1,2,3]), np.array([4,5,6])])"
   ]
  },
  {
   "cell_type": "code",
   "execution_count": 28,
   "metadata": {},
   "outputs": [
    {
     "data": {
      "image/png": "[encoded data removed]",
      "text/plain": [
       "<Figure size 432x288 with 1 Axes>"
      ]
     },
     "metadata": {
      "needs_background": "light"
     },
     "output_type": "display_data"
    }
   ],
   "source": [
    "# а теперь применяем этот алгоритм ко всем точкам\n",
    "x_norm_borders = np.array([])\n",
    "y_norm_borders = np.array([])\n",
    "before_border = borders[0]\n",
    "before_distance_between_borders = distance\n",
    "for border in borders[1:]:\n",
    "    distance_between_borders = (border - before_border) / 2\n",
    "    next_x = np.linspace(before_border - before_distance_between_borders,\\\n",
    "                                           before_border + distance_between_borders, 100)\n",
    "    x_norm_borders = np.hstack([x_norm_borders, next_x])\n",
    "    y_norm_borders = np.hstack([y_norm_borders, norm.pdf(next_x, loc = before_border, scale = scale)])\n",
    "    before_border = border\n",
    "    before_distance_between_borders = distance_between_borders\n",
    "\n",
    "next_x = np.linspace(before_border - before_distance_between_borders,\\\n",
    "                                           before_border + distance, 100)\n",
    "x_norm_borders = np.hstack([x_norm_borders, next_x])\n",
    "y_norm_borders = np.hstack([y_norm_borders, norm.pdf(next_x, loc = before_border, scale = scale)])\n",
    "\n",
    "\n",
    "fig, ax = plt.subplots(1,1)\n",
    "ax.plot(x_norm_borders, y_norm_borders)\n",
    "plt.show()"
   ]
  },
  {
   "cell_type": "code",
   "execution_count": 29,
   "metadata": {},
   "outputs": [
    {
     "data": {
      "image/png": "[encoded data removed]",
      "text/plain": [
       "<Figure size 432x288 with 2 Axes>"
      ]
     },
     "metadata": {
      "needs_background": "light"
     },
     "output_type": "display_data"
    }
   ],
   "source": [
    "# посмотрим как дела обстоят вначале и конце\n",
    "fig, ax = plt.subplots(1,2)\n",
    "ax[0].plot(x_norm_borders[:1000], y_norm_borders[:1000])\n",
    "ax[1].plot(x_norm_borders[-1000:], y_norm_borders[-1000:])\n",
    "plt.show()"
   ]
  },
  {
   "cell_type": "markdown",
   "metadata": {},
   "source": [
    "## То что надо! Теперь обернем это все в класс, чтобы этим можно было пользоваться"
   ]
  },
  {
   "cell_type": "code",
   "execution_count": 52,
   "metadata": {},
   "outputs": [],
   "source": [
    "# класс преобразует df['start', 'end'] (float64) в нормальное распределение границ в виде (x, y)\n",
    "# начальные параметры:\n",
    "# min_phonem_interval - минимальный межфонемный интервал\n",
    "# sr - частота дискретизации (количество кадров (разбиений) в секунду)\n",
    "# distance - на сколько разметка человека границ фонем может максимум ошибаться\n",
    "# quantile - с какой вероятностью она может ошибаться\n",
    "class NormBordersDistribution:\n",
    "    def __init__(self, min_phonem_interval = 0.025, sr=16000, distance=0.2, quantile=0.95):\n",
    "        self.min_phonem_interval = min_phonem_interval\n",
    "        self.distance = distance\n",
    "        self.quantile = quantile\n",
    "        self.sr = sr\n",
    "        # зададим ср кв отклонение (scale) такое, что 95% квантиль находится на расстоянии 200 мс от. медианы\n",
    "        # в переводе на русский - считаем, что разметка человека где граница фонем может ошибаться максимум на 0.2 мс \n",
    "        # в обе стороны с 95% вероятностью\n",
    "        self.scale = self._calc_norm_scale_for_quantile(self.distance, self.quantile)\n",
    "    \n",
    "    def convert_df_start_end_to_norm_borders_distribution(self, df):\n",
    "        try:\n",
    "            df_start_end = df.loc[:,['start','end']]\n",
    "        except Exception as e:\n",
    "            print(\"No data like df.loc[:,['start', 'end']]\")\n",
    "            print(str(e))\n",
    "            return\n",
    "        \n",
    "        # сливаем start и end в один список границ и сортируем границы\n",
    "        borders = np.sort(np.array(self._merge_2_columns_on_row(df, 'start', 'end')))\n",
    "        \n",
    "        # убираем границы, разница между которыми меньше 25 мсек\n",
    "        borders = self._check_on_min_phonem_interval(borders, self.min_phonem_interval)\n",
    "        \n",
    "        x, y = self._transform_borders_lst_to_norm_distribution_func(borders, self.distance, self.scale, self.sr)\n",
    "        return x, y\n",
    "        \n",
    "    \n",
    "    def _merge_2_columns_on_row(self, df, column_name_1, column_name_2):\n",
    "        lst = []\n",
    "        for column_1_i, column_2_i in zip(df[column_name_1], df[column_name_2]):\n",
    "            lst.append(column_1_i)\n",
    "            lst.append(column_2_i)\n",
    "        return lst\n",
    "    \n",
    "    def _check_on_min_phonem_interval(self, lst, min_phonem_interval):\n",
    "        flag = True\n",
    "        while flag:\n",
    "            flag = False\n",
    "            res = []\n",
    "            next_elem_i = 1\n",
    "            while (next_elem_i < len(lst)):\n",
    "                before_elem = lst[next_elem_i - 1]\n",
    "                if (lst[next_elem_i] - before_elem < min_phonem_interval):\n",
    "                    flag = True\n",
    "                    res.append(np.mean([before_elem, lst[next_elem_i]]))\n",
    "                    next_elem_i += 1\n",
    "                else:\n",
    "                    res.append(before_elem)\n",
    "                next_elem_i += 1\n",
    "            if (lst[-1] - res[-1] >= min_phonem_interval):\n",
    "                res.append(lst[-1])\n",
    "            lst = res\n",
    "        return lst\n",
    "    \n",
    "    def _calc_norm_scale_for_quantile(self, distance, quantile):\n",
    "        # ничего лучше не придумал, как перебирать значения\n",
    "        start_scale = 0.5\n",
    "        step = 0.01\n",
    "        last_distance = norm.ppf(quantile, loc=0., scale=start_scale)\n",
    "        # чтоб не крашилась на больших distance\n",
    "        if (last_distance < distance):\n",
    "            return start_scale\n",
    "\n",
    "        while (last_distance > distance):\n",
    "            start_scale -= step\n",
    "            last_distance = norm.ppf(quantile, loc=0., scale=start_scale)\n",
    "        # выбираем наиближайнее к distance\n",
    "        return start_scale if (abs(last_distance - distance) - \n",
    "                abs(norm.ppf(quantile, loc=0., scale=start_scale + step) - distance)) < 0 else start_scale + step\n",
    "    \n",
    "    def _transform_borders_lst_to_norm_distribution_func(self, borders, distance, scale, sr):\n",
    "        x_norm_borders = np.array([])\n",
    "        y_norm_borders = np.array([])\n",
    "        before_border = borders[0]\n",
    "        before_distance_between_borders = distance\n",
    "        \n",
    "        for border in borders[1:]:\n",
    "            distance_between_borders = (border - before_border) / 2\n",
    "            \n",
    "            # определяем, на сколько разбиваем каждый промежуток\n",
    "            frequency = round(sr * (distance_between_borders + before_distance_between_borders))\n",
    "            \n",
    "            # разбиваем иксы\n",
    "            next_x = np.linspace(before_border - before_distance_between_borders,\\\n",
    "                                                   before_border + distance_between_borders, frequency)\n",
    "            x_norm_borders = np.hstack([x_norm_borders, next_x])\n",
    "            # считаем нормальное распределение и добавляем в y_norm_borders\n",
    "            y_norm_borders = np.hstack([y_norm_borders, norm.pdf(next_x, loc = before_border, scale = scale)])\n",
    "            \n",
    "            before_border = border\n",
    "            before_distance_between_borders = distance_between_borders\n",
    "\n",
    "        # определяем, на сколько разбиваем каждый промежуток\n",
    "        frequency = round(sr * (distance_between_borders + before_distance_between_borders))\n",
    "        \n",
    "        next_x = np.linspace(before_border - before_distance_between_borders,\\\n",
    "                                                   before_border + distance, frequency)\n",
    "        \n",
    "        x_norm_borders = np.hstack([x_norm_borders, next_x])\n",
    "        y_norm_borders = np.hstack([y_norm_borders, norm.pdf(next_x, loc = before_border, scale = scale)])\n",
    "        return x_norm_borders, y_norm_borders"
   ]
  },
  {
   "cell_type": "code",
   "execution_count": 64,
   "metadata": {},
   "outputs": [],
   "source": [
    "df_transform = NormBordersDistribution(sr=1600, distance = 0.0005)\n",
    "x, y = df_transform.convert_df_start_end_to_norm_borders_distribution(df_start_end)"
   ]
  },
  {
   "cell_type": "code",
   "execution_count": 65,
   "metadata": {},
   "outputs": [
    {
     "data": {
      "image/png": "[encoded data removed]",
      "text/plain": [
       "<Figure size 432x288 with 1 Axes>"
      ]
     },
     "metadata": {
      "needs_background": "light"
     },
     "output_type": "display_data"
    }
   ],
   "source": [
    "fig, ax = plt.subplots(1,1)\n",
    "ax.plot(x[:1000], y[:1000])\n",
    "plt.show()"
   ]
  },
  {
   "cell_type": "code",
   "execution_count": null,
   "metadata": {},
   "outputs": [],
   "source": []
  }
 ],
 "metadata": {
  "kernelspec": {
   "display_name": "Python 3",
   "language": "python",
   "name": "python3"
  },
  "language_info": {
   "codemirror_mode": {
    "name": "ipython",
    "version": 3
   },
   "file_extension": ".py",
   "mimetype": "text/x-python",
   "name": "python",
   "nbconvert_exporter": "python",
   "pygments_lexer": "ipython3",
   "version": "3.8.5"
  }
 },
 "nbformat": 4,
 "nbformat_minor": 4
}
